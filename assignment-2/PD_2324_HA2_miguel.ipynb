{
 "cells": [
  {
   "cell_type": "markdown",
   "id": "333368e3-bb42-466c-8823-c45ed71f970f",
   "metadata": {},
   "source": [
    "# Prospecção de Dados (Data Mining) DI/FCUL - HA2\n",
    "\n",
    "## Second Home Assignement (MC/DI/FCUL - 2024)\n",
    "\n",
    "### Fill in the section below\n",
    "\n",
    "### GROUP:`###`\n",
    "\n",
    "* Element Name, Number - Hours worked on the project\n",
    "* Element Name, Number - Hours worked on the project\n",
    "* Element Name, Number - Hours worked on the project\n"
   ]
  },
  {
   "cell_type": "markdown",
   "id": "45ae0373-c651-4cfe-b4a4-42e9db6bd7e6",
   "metadata": {},
   "source": [
    "\n",
    "## Objectives\n",
    "The purpose of this Home Assignment is:\n",
    "\n",
    "1. Analyze the itemset/rules generation procedure\n",
    "2. Process and identify the most relevant rules\n",
    "\n",
    "**NOTE 1: Students are not allowed to add more cells to the notebook**\n",
    "\n",
    "**NOTE 2: The notebook must be submited fully executed**\n"
   ]
  },
  {
   "cell_type": "markdown",
   "id": "15a40f24-0da5-4b96-90f3-84259cbd1bc5",
   "metadata": {},
   "source": [
    "### 1. Read the Dataset\n",
    "\n",
    "Dataset: Instacart [Market Basket Analysis](https://www.kaggle.com/datasets/psparks/instacart-market-basket-analysis)\n",
    "\n",
    "\n",
    "\n",
    "The purpose of this Home Assignment is:\n",
    "\n",
    "1. Analyze the itemset/rules generation procedure\n",
    "2. Identify the most relevant rules\n",
    "\n",
    "Please download the HA files from this moodle folder and inspect it like this:\n",
    "**NOTE 1: Students are not allowed to add more cells to the notebook**\n",
    "\n",
    "**NOTE 2: The notebook must be submited fully executed**\n",
    "\n",
    "The dataset has been preprocessed with transactions as lists of integers. It is necessary a decoder to see the actual products bought together\n",
    "\n",
    "Uncompress the data set (zip file) which will produce 2 files:\n",
    "* `order_products.pickle` a Python pickle with all the trasactions\n",
    "* A `products.txt` - decoder table with all the data relative to each item\n",
    "\n"
   ]
  },
  {
   "cell_type": "code",
   "execution_count": 1,
   "id": "d8ae8af3-04f6-49ce-a093-0f5cc1dcc26c",
   "metadata": {
    "tags": []
   },
   "outputs": [
    {
     "name": "stdout",
     "output_type": "stream",
     "text": [
      "Transaction 2 is [33120, 28985, 9327, 45918, 30035, 17794, 40141, 1819, 43668]\n",
      "Code: 33120 is product: Organic Egg Whites\n",
      "Code: 28985 is product: Michigan Organic Kale\n",
      "Code:  9327 is product: Garlic Powder\n",
      "Code: 45918 is product: Coconut Butter\n",
      "Code: 30035 is product: Natural Sweetener\n",
      "Code: 17794 is product: Carrots\n",
      "Code: 40141 is product: Original Unflavored Gelatine Mix\n",
      "Code:  1819 is product: All Natural No Stir Creamy Almond Butter\n",
      "Code: 43668 is product: Classic Blend Cole Slaw\n"
     ]
    }
   ],
   "source": [
    "#Read product names and IDs\n",
    "lines=open(\"products.txt\", \"rt\", encoding=\"utf8\").readlines()\n",
    "products=[0]*len(lines)\n",
    "for lin in lines[1:]:\n",
    "    pid, pname, aid, did=lin.strip().split(\"\\t\")    \n",
    "    products[int(pid)]=pname\n",
    "    \n",
    "#read transactions\n",
    "import pickle\n",
    "orders=pickle.load(open(\"order_products.pickle\", \"rb\"))\n",
    "\n",
    "#check names of products on transaction 2 (example):\n",
    "print(\"Transaction 2 is\", orders[2])\n",
    "for prod in orders[2]: print(\"Code: %5d is product: %s\" %(prod, products[prod]))"
   ]
  },
  {
   "cell_type": "markdown",
   "id": "73946fe0-a7ee-4554-87f5-6c8efc3a275f",
   "metadata": {},
   "source": [
    "### Objective 1 - Analyze the itemset/rules generation procedure\n",
    "\n",
    "1. From the approaches used in classes make a performance analysis up to a threshold level of support\n",
    "2. Define a good support threshold for analysis according to your computational capabilities\n"
   ]
  },
  {
   "cell_type": "code",
   "execution_count": 2,
   "id": "de744174-1989-42af-9e78-0948ea801ace",
   "metadata": {},
   "outputs": [],
   "source": [
    "### Add supporting functions here\n",
    "lines = open(\"products.txt\", \"rt\", encoding=\"utf8\").readlines()\n",
    "products = {}\n",
    "\n",
    "# Extract product names and store them in a dictionary\n",
    "for lin in lines[1:]:\n",
    "    pid, pname, aid, did = lin.strip().split(\"\\t\")\n",
    "    products[int(pid)] = pname\n",
    "\n",
    "# Read transactions from the pickle file\n",
    "import pickle\n",
    "orders = pickle.load(open(\"order_products.pickle\", \"rb\"))\n",
    "\n",
    "# Create a new dictionary to store transactions with product names\n",
    "orders_with_names = {}\n",
    "\n",
    "# Replace product codes with product names in each transaction\n",
    "for transaction_id, product_codes in orders.items():\n",
    "    # Replace product codes with product names\n",
    "    product_names = [products[code] for code in product_codes]\n",
    "    # Store the transaction with product names in the new dictionary\n",
    "    orders_with_names[transaction_id] = product_names\n",
    "    \n",
    "#Transfom the dictionary into a list   \n",
    "orders_with_names_list = list(orders_with_names.values())\n",
    "\n",
    "#Since the dataset is two big we did a random sample\n",
    "import random\n",
    "subset_size = 500000  \n",
    "subset_orders_with_names_list = random.sample(orders_with_names_list, subset_size)\n",
    "\n",
    "# Compute binary database (transactions X products)\n",
    "import pandas as pd\n",
    "from mlxtend.preprocessing import  TransactionEncoder\n",
    "tr_enc = TransactionEncoder()\n",
    "trans_array = tr_enc.fit(subset_orders_with_names_list).transform(subset_orders_with_names_list)\n",
    "binary_database = pd.DataFrame(trans_array, columns=tr_enc.columns_)\n",
    "\n",
    "#Apriori, FP-Growth, and Eclat algorithms used for association rule mining in data mining \n",
    "from mlxtend.frequent_patterns import apriori\n",
    "from mlxtend.frequent_patterns import fpgrowth\n",
    "from pyfim import pyeclat\n",
    "\n",
    "\n",
    "import time\n",
    "\n",
    "D={\"threshold\": [0.2, 0.1, 0.05, 0.02, 0.01], \n",
    "   \"num_itemsets\":[],\n",
    "   \"apriori\":[], \n",
    "   \"FP-growth\":[], \n",
    "   \"ECLAT\":[]}\n",
    "\n",
    "\n",
    "for min_supp in D[\"threshold\"]:\n",
    "    t0 = time.time()\n",
    "    FI_apriori=apriori(binary_database, min_supp)\n",
    "    t1 = time.time()\n",
    "    D[\"num_itemsets\"].append(FI_apriori.shape[0])\n",
    "    D[\"apriori\"].append(t1-t0)\n",
    "\n",
    "    FI_fpg= fpgrowth(binary_database, min_supp)\n",
    "    t2 = time.time()\n",
    "    D[\"FP-growth\"].append(t2-t1)\n",
    "\n",
    "    FI_eclat= pyeclat(subset_orders_with_names_list, min_supp)    \n",
    "    t3 = time.time()\n",
    "    D[\"ECLAT\"].append(t3-t2) \n",
    "\n",
    "df_performance=pd.DataFrame(D)"
   ]
  },
  {
   "cell_type": "code",
   "execution_count": 3,
   "id": "0e664c47-38e6-41dc-b5b3-c2c43f033cd6",
   "metadata": {},
   "outputs": [
    {
     "data": {
      "image/png": "[encoded data removed]",
      "text/plain": [
       "<Figure size 640x480 with 1 Axes>"
      ]
     },
     "metadata": {},
     "output_type": "display_data"
    },
    {
     "data": {
      "text/html": [
       "<div>\n",
       "<style scoped>\n",
       "    .dataframe tbody tr th:only-of-type {\n",
       "        vertical-align: middle;\n",
       "    }\n",
       "\n",
       "    .dataframe tbody tr th {\n",
       "        vertical-align: top;\n",
       "    }\n",
       "\n",
       "    .dataframe thead th {\n",
       "        text-align: right;\n",
       "    }\n",
       "</style>\n",
       "<table border=\"1\" class=\"dataframe\">\n",
       "  <thead>\n",
       "    <tr style=\"text-align: right;\">\n",
       "      <th></th>\n",
       "      <th>threshold</th>\n",
       "      <th>num_itemsets</th>\n",
       "      <th>apriori</th>\n",
       "      <th>FP-growth</th>\n",
       "      <th>ECLAT</th>\n",
       "    </tr>\n",
       "  </thead>\n",
       "  <tbody>\n",
       "    <tr>\n",
       "      <th>0</th>\n",
       "      <td>0.20</td>\n",
       "      <td>0</td>\n",
       "      <td>81.154626</td>\n",
       "      <td>137.222968</td>\n",
       "      <td>30.325712</td>\n",
       "    </tr>\n",
       "    <tr>\n",
       "      <th>1</th>\n",
       "      <td>0.10</td>\n",
       "      <td>2</td>\n",
       "      <td>85.834477</td>\n",
       "      <td>134.240746</td>\n",
       "      <td>30.923862</td>\n",
       "    </tr>\n",
       "    <tr>\n",
       "      <th>2</th>\n",
       "      <td>0.05</td>\n",
       "      <td>6</td>\n",
       "      <td>94.771035</td>\n",
       "      <td>138.332773</td>\n",
       "      <td>14.762117</td>\n",
       "    </tr>\n",
       "    <tr>\n",
       "      <th>3</th>\n",
       "      <td>0.02</td>\n",
       "      <td>39</td>\n",
       "      <td>453.931194</td>\n",
       "      <td>156.992420</td>\n",
       "      <td>8.134075</td>\n",
       "    </tr>\n",
       "    <tr>\n",
       "      <th>4</th>\n",
       "      <td>0.01</td>\n",
       "      <td>115</td>\n",
       "      <td>1385.938171</td>\n",
       "      <td>125.439482</td>\n",
       "      <td>7.405951</td>\n",
       "    </tr>\n",
       "  </tbody>\n",
       "</table>\n",
       "</div>"
      ],
      "text/plain": [
       "   threshold  num_itemsets      apriori   FP-growth      ECLAT\n",
       "0       0.20             0    81.154626  137.222968  30.325712\n",
       "1       0.10             2    85.834477  134.240746  30.923862\n",
       "2       0.05             6    94.771035  138.332773  14.762117\n",
       "3       0.02            39   453.931194  156.992420   8.134075\n",
       "4       0.01           115  1385.938171  125.439482   7.405951"
      ]
     },
     "execution_count": 3,
     "metadata": {},
     "output_type": "execute_result"
    }
   ],
   "source": [
    "### Add processing code here\n",
    "#orders_with_names\n",
    "#orders_with_names_list\n",
    "#subset_orders_with_names_list\n",
    "#binary_database\n",
    "\n",
    "\n",
    "import matplotlib.pyplot as plt\n",
    "plt.plot(df_performance[\"threshold\"], df_performance[\"apriori\"], label=\"Apriori\")\n",
    "plt.plot(df_performance[\"threshold\"], df_performance[\"FP-growth\"], label=\"FP-growth\")\n",
    "plt.plot(df_performance[\"threshold\"], df_performance[\"ECLAT\"], label=\"ECLAT\")\n",
    "plt.legend()\n",
    "plt.xlabel('Threshold')\n",
    "plt.ylabel('Performance Time (seconds)')\n",
    "plt.show()\n",
    "\n",
    "df_performance\n"
   ]
  },
  {
   "cell_type": "markdown",
   "id": "6a016c52-c66e-4499-8233-5631923eb695",
   "metadata": {},
   "source": [
    "### Your short analysis here\n",
    "\n",
    "The threshold column represents the minimum support threshold used in association rule mining. As the threshold decreases, more itemsets are considered frequent.\n",
    "\n",
    "The number of items column indicates the number of frequent itemsets generated by each algorithm at the corresponding threshold level. As expected, the number of itemsets generally increases as the threshold becomes less stringent, allowing for the inclusion of more itemsets in the analysis.\n",
    "\n",
    "Apriori's runtime increases significantly as the threshold decreases. This behavior is expected as Apriori's performance is influenced by the number of candidate itemsets generated, which tends to increase with lower support thresholds.\n",
    "\n",
    "FP-growth exhibits relatively consistent runtime across different threshold levels. This stability in runtime is one of the advantages of FP-growth over Apriori, as it does not rely on candidate generation and pruning steps.\n",
    " \n",
    "ECLAT's runtime decreases as the threshold becomes less stringent, which is somewhat counterintuitive but not uncommon. This behavior suggests that ECLAT may be more efficient at processing data with lower support thresholds, possibly due to its vertical data format and depth-first search approach."
   ]
  },
  {
   "cell_type": "markdown",
   "id": "853614f3-1e1b-4481-9784-e29dd0b453cb",
   "metadata": {},
   "source": [
    "### Objective 2 - Identify the most relevant rules\n",
    "\n",
    "1. From your predefined support level generate all available itemsets and generate rules\n",
    "2. Identify a set of 10 relevant rules using the Highest Lift criterion\n",
    "    * **NOTE**: Present the rules with the product names and not as Integers \n",
    "3. Identify the Maximal and Closed Itemsets for the same level of support and generate 5 rules using the Highest Lift\n",
    "    * **NOTE**: Do not list the Maximal or Closed Itemsets. Present just a few as an example and mention **how many** Closed and Maximal Itemsets were found for the selected support level\n",
    "    * **NOTE**: Present the rules with the product names and not as Integers \n"
   ]
  },
  {
   "cell_type": "code",
   "execution_count": null,
   "id": "ead806d9-8073-4fc0-9668-68ad0b89077f",
   "metadata": {},
   "outputs": [],
   "source": [
    "### Add supporting functions here\n",
    "\n"
   ]
  },
  {
   "cell_type": "code",
   "execution_count": null,
   "id": "ad80328c-ffba-4bb6-8ce3-03726ee82348",
   "metadata": {},
   "outputs": [],
   "source": [
    "### Add processing code here\n",
    "\n"
   ]
  },
  {
   "cell_type": "markdown",
   "id": "322a87b8-4102-43ff-ac7c-e748df7bcd1f",
   "metadata": {},
   "source": [
    "### Your short analysis here\n",
    "\n",
    "Lorem ipsum dolor sit amet, consectetur adipiscing elit, sed do eiusmod tempor incididunt ut labore et dolore magna aliqua. Ut enim ad minim veniam, quis nostrud exercitation ullamco laboris nisi ut aliquip ex ea commodo consequat. Duis aute irure dolor in reprehenderit in voluptate velit esse cillum dolore eu fugiat nulla pariatur. Excepteur sint occaecat cupidatat non proident, sunt in culpa qui officia deserunt mollit anim id est laborum\n"
   ]
  }
 ],
 "metadata": {
  "kernelspec": {
   "display_name": "Python 3 (ipykernel)",
   "language": "python",
   "name": "python3"
  },
  "language_info": {
   "codemirror_mode": {
    "name": "ipython",
    "version": 3
   },
   "file_extension": ".py",
   "mimetype": "text/x-python",
   "name": "python",
   "nbconvert_exporter": "python",
   "pygments_lexer": "ipython3",
   "version": "3.11.4"
  }
 },
 "nbformat": 4,
 "nbformat_minor": 5
}
