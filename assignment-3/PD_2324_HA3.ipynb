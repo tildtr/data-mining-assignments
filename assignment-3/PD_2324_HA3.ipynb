{
 "cells": [
  {
   "cell_type": "markdown",
   "id": "333368e3-bb42-466c-8823-c45ed71f970f",
   "metadata": {},
   "source": [
    "# Prospecção de Dados (Data Mining) DI/FCUL - HA3\n",
    "\n",
    "## Third Home Assignement (MC/DI/FCUL - 2024)\n",
    "\n",
    "### Fill in the section below\n",
    "\n",
    "### GROUP: `13`\n",
    "\n",
    "* Miguel Landum, 35019 - Hours worked on the project\n",
    "* Niklas Schmitz, 62689 - Hours worked on the project\n",
    "* Pol Parra, 62692 - Hours worked on the project\n",
    "* Til Dietrich, 62928 - Hours worked on the project\n",
    "\n",
    "\n",
    "\n",
    "\n",
    "The purpose of this Home Assignment is\n",
    "* Find similar items with Local Sensitivity Hashing\n",
    "* Do Dimensionality Reduction\n",
    "\n",
    "**NOTE 1: Students are not allowed to add more cells to the notebook**\n",
    "\n",
    "**NOTE 2: The notebook must be submited fully executed**\n",
    "\n",
    "**NOTE 3: Name of notebook should be: HA3_GROUP-XX.ipynb (where XX is the group number)**\n"
   ]
  },
  {
   "cell_type": "markdown",
   "id": "56959b24",
   "metadata": {},
   "source": [
    "**NOTE to run code locally:** add data (data_d3.pickle, data_d4.pickle) to **assignment-3/data/** folder"
   ]
  },
  {
   "cell_type": "markdown",
   "id": "15a40f24-0da5-4b96-90f3-84259cbd1bc5",
   "metadata": {},
   "source": [
    "## 1. Read the Dataset\n",
    "\n",
    "The dataset correspond to about 99% of the Human Proteome (set of known Human Proteins - about 19,500), coded with specific structural elements. They are presented in a dictionary where the key is the [UniprotID](https://www.uniprot.org/) of the protein and the value is a set of indices of a specific structural characteristic\n",
    "\n",
    "Students can use one of two datasets, that are **not** subsets of each other: \n",
    "* `data_d3.pickle` - smaller set of structural features (2048)\n",
    "* `data_d4.pickle` - much larger set of structural features (20736) **Note:** This dataset has been Zipped to fit into moodle. Students should unzip it before usage \n",
    "\n",
    "Select **one** of the datasets and perform all analyses with it. \n",
    "\n",
    "It may be adviseable the usage of sparse matrices, especially for the `d4` dataset\n",
    "\n"
   ]
  },
  {
   "cell_type": "code",
   "execution_count": 83,
   "id": "d5ba65f2",
   "metadata": {},
   "outputs": [
    {
     "name": "stdout",
     "output_type": "stream",
     "text": [
      "Collecting datasketch\n",
      "  Downloading datasketch-1.6.4-py3-none-any.whl.metadata (5.8 kB)\n",
      "Requirement already satisfied: numpy>=1.11 in /Users/niklas/miniconda3/lib/python3.11/site-packages (from datasketch) (1.24.3)\n",
      "Requirement already satisfied: scipy>=1.0.0 in /Users/niklas/miniconda3/lib/python3.11/site-packages (from datasketch) (1.11.4)\n",
      "Downloading datasketch-1.6.4-py3-none-any.whl (88 kB)\n",
      "\u001b[2K   \u001b[90m━━━━━━━━━━━━━━━━━━━━━━━━━━━━━━━━━━━━━━━━\u001b[0m \u001b[32m88.3/88.3 kB\u001b[0m \u001b[31m2.3 MB/s\u001b[0m eta \u001b[36m0:00:00\u001b[0ma \u001b[36m0:00:01\u001b[0m\n",
      "\u001b[?25hInstalling collected packages: datasketch\n",
      "Successfully installed datasketch-1.6.4\n"
     ]
    }
   ],
   "source": [
    "# !pip install datasketch"
   ]
  },
  {
   "cell_type": "code",
   "execution_count": 89,
   "id": "aa918e91-c325-4c1d-8e8d-93d411035a37",
   "metadata": {},
   "outputs": [
    {
     "name": "stdout",
     "output_type": "stream",
     "text": [
      "A0A024R1R8\n",
      "{1, 771, 775, 263, 137, 11, 531, 1176, 922, 30, 927, 1185, 673, 675, 423, 296, 1704, 2043, 813, 304, 48, 52, 693, 1080, 1083, 1211, 1085, 1469, 69, 454, 1865, 458, 842, 1609, 1618, 467, 1109, 214, 1237, 473, 90, 603, 1379, 229, 1768, 1513, 1260, 109, 1645, 1007, 112, 1521, 242, 2035, 1652, 1525, 1270, 119, 1017, 123, 508, 1149}\n",
      "62\n",
      "178\n"
     ]
    }
   ],
   "source": [
    "### Your code Here\n",
    "import pickle\n",
    "from itertools import islice\n",
    "\n",
    "data_d3=pickle.load(open(\"data/data_d3.pickle\", \"rb\"))\n",
    "data_d4=pickle.load(open(\"data/data_d4.pickle\", \"rb\"))\n",
    "\n",
    "first_elements = list(islice(data_d3, 5))\n",
    "print(first_elements[0])\n",
    "print(data_d3[first_elements[0]])\n",
    "print(len(data_d3[first_elements[0]]))\n",
    "print(len(data_d3[first_elements[1]])) # => elements in dict have different amount of elements in them"
   ]
  },
  {
   "cell_type": "markdown",
   "id": "853614f3-1e1b-4481-9784-e29dd0b453cb",
   "metadata": {},
   "source": [
    "## 2. Perform Local Sensitivity Hashing (LSH)\n",
    "\n",
    "* examine the selected dataset in terms of similarities and select a set of LSH parameters able to capture the most similar proteins\n",
    "* Comment your results\n",
    "\n",
    "**BONUS POINTS:** It might be interesting to identify **some** of the candidate pairs in Uniprot, to check if they share some of the same properties (e.g. for [protein P28223](https://www.uniprot.org/uniprotkb/P28223/entry))\n"
   ]
  },
  {
   "cell_type": "code",
   "execution_count": 90,
   "id": "62872002",
   "metadata": {},
   "outputs": [],
   "source": [
    "import pickle\n",
    "import numpy as np\n",
    "from scipy.sparse import csr_matrix\n",
    "import pandas as pd\n",
    "from IPython.display import display\n",
    "import itertools\n",
    "\n",
    "### Add supporting functions here\n",
    "def create_sparse_matrix(data):\n",
    "    uniprot_ids = list(data.keys())\n",
    "    structural_features = list(data.values())\n",
    "\n",
    "    # Find the number of unique features\n",
    "    num_features = max(max(indices) for indices in structural_features) + 1\n",
    "\n",
    "    # Prepare data for csr_matrix\n",
    "    matrix_data = []\n",
    "    rows = []\n",
    "    cols = []\n",
    "\n",
    "    for row, indices in enumerate(structural_features):\n",
    "        rows.extend([row] * len(indices))\n",
    "        cols.extend(indices)\n",
    "        matrix_data.extend([1] * len(indices))\n",
    "\n",
    "    # Create the sparse matrix\n",
    "    sparse_matrix = csr_matrix((matrix_data, (rows, cols)), shape=(len(uniprot_ids), num_features))\n",
    "    \n",
    "    return sparse_matrix, uniprot_ids\n",
    "\n",
    "def MakeBucketsT(TDocs, perms, N, B, R, NB):\n",
    "    Buckets = {}\n",
    "    all_docs = set(range(N))\n",
    "    for b in range(B):\n",
    "        SIGS = np.zeros((N, R), dtype=\"int32\")\n",
    "        for r in range(R):\n",
    "            perm = perms[b * R + r]\n",
    "            L = all_docs.copy()\n",
    "            i = 0\n",
    "            while len(L) > 0:\n",
    "                elem = perm[i]\n",
    "                docs_found = TDocs[elem] & L\n",
    "                if len(docs_found) > 0:\n",
    "                    SIGS[list(docs_found), r] = i\n",
    "                    L = L - docs_found\n",
    "                i += 1\n",
    "                if i == len(perm):\n",
    "                    SIGS[list(L), r] = i\n",
    "                    L = set()\n",
    "        for d in range(N):\n",
    "            bucket = hash(tuple(SIGS[d])) % NB\n",
    "            Buckets.setdefault((b, bucket), set()).add(d)\n",
    "    return Buckets\n",
    "\n",
    "def LSHT(Data, B, R, NB=28934501):\n",
    "    N, M = Data.shape\n",
    "    DT = Data.T  # Transpose the matrix\n",
    "    DataT = [set(np.where(DT[i] == 1)[0]) for i in range(M)]  # Adjust indexing for dense matrix\n",
    "    P = B * R\n",
    "    np.random.seed(3)\n",
    "    perms = [np.random.permutation(M) for _ in range(P)]\n",
    "    buckets = MakeBucketsT(DataT, perms, N, B, R, NB)\n",
    "    return buckets\n",
    "\n",
    "def compare_characteristics(df, proteins):\n",
    "    subset = df.loc[proteins]\n",
    "    num_columns_differ = (subset.iloc[0] != subset.iloc[1]).sum()\n",
    "    total_columns = len(subset.columns)\n",
    "    num_columns_match = total_columns - num_columns_differ\n",
    "\n",
    "    # Calculate the number of shared 1s between the proteins\n",
    "    shared_1s = ((subset.iloc[0] == 1) & (subset.iloc[1] == 1)).sum()\n",
    "\n",
    "    # Calculate the total number of 1s if both proteins had the same characteristics\n",
    "    total_1s = subset.iloc[0].sum() + subset.iloc[1].sum() - shared_1s\n",
    "\n",
    "    return num_columns_differ, num_columns_match, shared_1s, total_1s\n",
    "\n",
    "def get_probabilities(s_values, band_values, row_values):\n",
    "    # Get probabilities\n",
    "    probabilities = []\n",
    "    for b_val in band_values:\n",
    "        for r_val in row_values:\n",
    "            for s in s_values:\n",
    "                probability = 1 - (1 - s ** r_val) ** b_val\n",
    "                probabilities.append([probability, b_val, r_val, s])\n",
    "                # print(\"The probability that proteins share at least one band signature if they are %4.2f similar is: %7.4f\" % (s, probability))\n",
    "    return probabilities\n",
    "\n",
    "def jaccard_similarity(protein1, protein2):\n",
    "    intersection = np.sum(np.minimum(protein1, protein2))\n",
    "    union = np.sum(np.maximum(protein1, protein2))\n",
    "    return intersection / union\n",
    "\n",
    "def extract_similar_pairs(buckets, uniprot_ids, df):\n",
    "    similar_pairs = []\n",
    "    for (b, buck), docs in buckets.items():\n",
    "        if len(docs) > 1:\n",
    "            #print(\"Band\", b, \"suggests these similar docs:\", [uniprot_ids[d] for d in docs])\n",
    "            combs = itertools.combinations(docs, 2)\n",
    "            for i, j in combs:\n",
    "                protein1 = df.iloc[i].values\n",
    "                protein2 = df.iloc[j].values\n",
    "                jaccard_sim = jaccard_similarity(protein1, protein2)\n",
    "                \n",
    "\n",
    "                num_differ, num_match, shared_1s, total_1s = compare_characteristics(df, [uniprot_ids[i], uniprot_ids[j]])\n",
    "                similar_pairs.append((uniprot_ids[i], uniprot_ids[j], num_differ, num_match, shared_1s, total_1s, jaccard_sim))\n",
    "                \n",
    "                if len(similar_pairs) >= 20:  # Limit to 20 pairs\n",
    "                    return similar_pairs\n",
    "    return similar_pairs"
   ]
  },
  {
   "cell_type": "code",
   "execution_count": 91,
   "id": "225f4b06",
   "metadata": {},
   "outputs": [
    {
     "name": "stdout",
     "output_type": "stream",
     "text": [
      "Final promising parameters\n"
     ]
    },
    {
     "data": {
      "text/html": [
       "<div>\n",
       "<style scoped>\n",
       "    .dataframe tbody tr th:only-of-type {\n",
       "        vertical-align: middle;\n",
       "    }\n",
       "\n",
       "    .dataframe tbody tr th {\n",
       "        vertical-align: top;\n",
       "    }\n",
       "\n",
       "    .dataframe thead th {\n",
       "        text-align: right;\n",
       "    }\n",
       "</style>\n",
       "<table border=\"1\" class=\"dataframe\">\n",
       "  <thead>\n",
       "    <tr style=\"text-align: right;\">\n",
       "      <th></th>\n",
       "      <th>Probability</th>\n",
       "      <th>Num_band</th>\n",
       "      <th>Num_row</th>\n",
       "      <th>similarity</th>\n",
       "    </tr>\n",
       "  </thead>\n",
       "  <tbody>\n",
       "    <tr>\n",
       "      <th>0</th>\n",
       "      <td>0.144916</td>\n",
       "      <td>40</td>\n",
       "      <td>8</td>\n",
       "      <td>0.50</td>\n",
       "    </tr>\n",
       "    <tr>\n",
       "      <th>1</th>\n",
       "      <td>0.492142</td>\n",
       "      <td>40</td>\n",
       "      <td>8</td>\n",
       "      <td>0.60</td>\n",
       "    </tr>\n",
       "    <tr>\n",
       "      <th>2</th>\n",
       "      <td>0.906991</td>\n",
       "      <td>40</td>\n",
       "      <td>8</td>\n",
       "      <td>0.70</td>\n",
       "    </tr>\n",
       "    <tr>\n",
       "      <th>3</th>\n",
       "      <td>0.999997</td>\n",
       "      <td>40</td>\n",
       "      <td>8</td>\n",
       "      <td>0.85</td>\n",
       "    </tr>\n",
       "    <tr>\n",
       "      <th>4</th>\n",
       "      <td>1.000000</td>\n",
       "      <td>40</td>\n",
       "      <td>8</td>\n",
       "      <td>0.90</td>\n",
       "    </tr>\n",
       "    <tr>\n",
       "      <th>5</th>\n",
       "      <td>1.000000</td>\n",
       "      <td>40</td>\n",
       "      <td>8</td>\n",
       "      <td>0.95</td>\n",
       "    </tr>\n",
       "    <tr>\n",
       "      <th>6</th>\n",
       "      <td>0.209298</td>\n",
       "      <td>60</td>\n",
       "      <td>8</td>\n",
       "      <td>0.50</td>\n",
       "    </tr>\n",
       "    <tr>\n",
       "      <th>7</th>\n",
       "      <td>0.638079</td>\n",
       "      <td>60</td>\n",
       "      <td>8</td>\n",
       "      <td>0.60</td>\n",
       "    </tr>\n",
       "    <tr>\n",
       "      <th>8</th>\n",
       "      <td>0.971635</td>\n",
       "      <td>60</td>\n",
       "      <td>8</td>\n",
       "      <td>0.70</td>\n",
       "    </tr>\n",
       "    <tr>\n",
       "      <th>9</th>\n",
       "      <td>1.000000</td>\n",
       "      <td>60</td>\n",
       "      <td>8</td>\n",
       "      <td>0.85</td>\n",
       "    </tr>\n",
       "    <tr>\n",
       "      <th>10</th>\n",
       "      <td>1.000000</td>\n",
       "      <td>60</td>\n",
       "      <td>8</td>\n",
       "      <td>0.90</td>\n",
       "    </tr>\n",
       "    <tr>\n",
       "      <th>11</th>\n",
       "      <td>1.000000</td>\n",
       "      <td>60</td>\n",
       "      <td>8</td>\n",
       "      <td>0.95</td>\n",
       "    </tr>\n",
       "    <tr>\n",
       "      <th>12</th>\n",
       "      <td>0.268832</td>\n",
       "      <td>80</td>\n",
       "      <td>8</td>\n",
       "      <td>0.50</td>\n",
       "    </tr>\n",
       "    <tr>\n",
       "      <th>13</th>\n",
       "      <td>0.742080</td>\n",
       "      <td>80</td>\n",
       "      <td>8</td>\n",
       "      <td>0.60</td>\n",
       "    </tr>\n",
       "    <tr>\n",
       "      <th>14</th>\n",
       "      <td>0.991349</td>\n",
       "      <td>80</td>\n",
       "      <td>8</td>\n",
       "      <td>0.70</td>\n",
       "    </tr>\n",
       "    <tr>\n",
       "      <th>15</th>\n",
       "      <td>1.000000</td>\n",
       "      <td>80</td>\n",
       "      <td>8</td>\n",
       "      <td>0.85</td>\n",
       "    </tr>\n",
       "    <tr>\n",
       "      <th>16</th>\n",
       "      <td>1.000000</td>\n",
       "      <td>80</td>\n",
       "      <td>8</td>\n",
       "      <td>0.90</td>\n",
       "    </tr>\n",
       "    <tr>\n",
       "      <th>17</th>\n",
       "      <td>1.000000</td>\n",
       "      <td>80</td>\n",
       "      <td>8</td>\n",
       "      <td>0.95</td>\n",
       "    </tr>\n",
       "  </tbody>\n",
       "</table>\n",
       "</div>"
      ],
      "text/plain": [
       "    Probability  Num_band  Num_row  similarity\n",
       "0      0.144916        40        8        0.50\n",
       "1      0.492142        40        8        0.60\n",
       "2      0.906991        40        8        0.70\n",
       "3      0.999997        40        8        0.85\n",
       "4      1.000000        40        8        0.90\n",
       "5      1.000000        40        8        0.95\n",
       "6      0.209298        60        8        0.50\n",
       "7      0.638079        60        8        0.60\n",
       "8      0.971635        60        8        0.70\n",
       "9      1.000000        60        8        0.85\n",
       "10     1.000000        60        8        0.90\n",
       "11     1.000000        60        8        0.95\n",
       "12     0.268832        80        8        0.50\n",
       "13     0.742080        80        8        0.60\n",
       "14     0.991349        80        8        0.70\n",
       "15     1.000000        80        8        0.85\n",
       "16     1.000000        80        8        0.90\n",
       "17     1.000000        80        8        0.95"
      ]
     },
     "metadata": {},
     "output_type": "display_data"
    },
    {
     "name": "stdout",
     "output_type": "stream",
     "text": [
      "\n",
      "\n",
      "\n",
      "\n",
      "\n"
     ]
    },
    {
     "data": {
      "text/plain": [
       "'Sparse matrix shape for data_d3:'"
      ]
     },
     "metadata": {},
     "output_type": "display_data"
    },
    {
     "data": {
      "text/plain": [
       "(19258, 2048)"
      ]
     },
     "metadata": {},
     "output_type": "display_data"
    },
    {
     "data": {
      "text/plain": [
       "'Sparse matrix shape for data_d4:'"
      ]
     },
     "metadata": {},
     "output_type": "display_data"
    },
    {
     "data": {
      "text/plain": [
       "(19258, 20736)"
      ]
     },
     "metadata": {},
     "output_type": "display_data"
    },
    {
     "data": {
      "text/plain": [
       "'Similar protein pairs for data_d3:'"
      ]
     },
     "metadata": {},
     "output_type": "display_data"
    },
    {
     "data": {
      "text/plain": [
       "\"Band 0 suggests these similar proteins: ['A0A024RBG1', 'Q9NZJ9']\""
      ]
     },
     "metadata": {},
     "output_type": "display_data"
    },
    {
     "data": {
      "text/plain": [
       "\"Band 0 suggests these similar proteins: ['A0A075B6P5', 'P01615']\""
      ]
     },
     "metadata": {},
     "output_type": "display_data"
    },
    {
     "data": {
      "text/plain": [
       "\"Band 0 suggests these similar proteins: ['A0A075B6S2', 'A0A0C4DH68']\""
      ]
     },
     "metadata": {},
     "output_type": "display_data"
    },
    {
     "data": {
      "text/plain": [
       "\"Band 0 suggests these similar proteins: ['A0A075B6S6', 'P06310']\""
      ]
     },
     "metadata": {},
     "output_type": "display_data"
    },
    {
     "data": {
      "text/plain": [
       "\"Band 0 suggests these similar proteins: ['Q6IPX1', 'A0A087WVF3']\""
      ]
     },
     "metadata": {},
     "output_type": "display_data"
    },
    {
     "data": {
      "text/plain": [
       "\"Band 0 suggests these similar proteins: ['A0A087WW87', 'P01614']\""
      ]
     },
     "metadata": {},
     "output_type": "display_data"
    },
    {
     "data": {
      "text/plain": [
       "\"Band 0 suggests these similar proteins: ['A6NER0', 'A0A087X179']\""
      ]
     },
     "metadata": {},
     "output_type": "display_data"
    },
    {
     "data": {
      "text/plain": [
       "\"Band 0 suggests these similar proteins: ['P07919', 'A0A096LP55']\""
      ]
     },
     "metadata": {},
     "output_type": "display_data"
    },
    {
     "data": {
      "text/plain": [
       "\"Band 0 suggests these similar proteins: ['A0A0A0MT36', 'A0A0C4DH24']\""
      ]
     },
     "metadata": {},
     "output_type": "display_data"
    },
    {
     "data": {
      "text/plain": [
       "\"Band 0 suggests these similar proteins: ['A0JP26', 'A0A0A6YYL3']\""
      ]
     },
     "metadata": {},
     "output_type": "display_data"
    },
    {
     "data": {
      "text/plain": [
       "\"Band 0 suggests these similar proteins: ['A0A0B4J2D9', 'P0DP09']\""
      ]
     },
     "metadata": {},
     "output_type": "display_data"
    },
    {
     "data": {
      "text/plain": [
       "\"Band 0 suggests these similar proteins: ['A0A0B4J2F2', 'P57059']\""
      ]
     },
     "metadata": {},
     "output_type": "display_data"
    },
    {
     "data": {
      "text/plain": [
       "\"Band 0 suggests these similar proteins: ['P01742', 'A0A0B4J2H0']\""
      ]
     },
     "metadata": {},
     "output_type": "display_data"
    },
    {
     "data": {
      "text/plain": [
       "\"Band 0 suggests these similar proteins: ['P01619', 'A0A0C4DH25']\""
      ]
     },
     "metadata": {},
     "output_type": "display_data"
    },
    {
     "data": {
      "text/plain": [
       "\"Band 0 suggests these similar proteins: ['P01825', 'P0DP06', 'A0A0C4DH41']\""
      ]
     },
     "metadata": {},
     "output_type": "display_data"
    },
    {
     "data": {
      "text/plain": [
       "\"Band 0 suggests these similar proteins: ['P01767', 'A0A0C4DH42']\""
      ]
     },
     "metadata": {},
     "output_type": "display_data"
    },
    {
     "data": {
      "text/plain": [
       "\"Band 0 suggests these similar proteins: ['P01597', 'A0A0C4DH67', 'P04432']\""
      ]
     },
     "metadata": {},
     "output_type": "display_data"
    },
    {
     "data": {
      "text/plain": [
       "\"Band 0 suggests these similar proteins: ['P01611', 'A0A0C4DH73']\""
      ]
     },
     "metadata": {},
     "output_type": "display_data"
    },
    {
     "data": {
      "text/plain": [
       "\"Band 0 suggests these similar proteins: ['P0DPF7', 'A0A0J9YXY3']\""
      ]
     },
     "metadata": {},
     "output_type": "display_data"
    },
    {
     "data": {
      "text/plain": [
       "\"Band 0 suggests these similar proteins: ['A0A1B0GTK5', 'P0DP71']\""
      ]
     },
     "metadata": {},
     "output_type": "display_data"
    },
    {
     "data": {
      "text/plain": [
       "'Similar protein pairs for data_d4:'"
      ]
     },
     "metadata": {},
     "output_type": "display_data"
    },
    {
     "data": {
      "text/plain": [
       "\"Band 0 suggests these similar proteins: ['P34932', 'Q16401']\""
      ]
     },
     "metadata": {},
     "output_type": "display_data"
    },
    {
     "data": {
      "text/plain": [
       "\"Band 0 suggests these similar proteins: ['P0CL82', 'P0DSO3', 'O76087', 'P0CL80', 'P0DTW1', 'P0CL81', 'Q13069']\""
      ]
     },
     "metadata": {},
     "output_type": "display_data"
    },
    {
     "data": {
      "text/plain": [
       "\"Band 0 suggests these similar proteins: ['P47813', 'O14602']\""
      ]
     },
     "metadata": {},
     "output_type": "display_data"
    },
    {
     "data": {
      "text/plain": [
       "\"Band 0 suggests these similar proteins: ['Q9QC07', 'Q9BXR3', 'Q9UQG0', 'P10266']\""
      ]
     },
     "metadata": {},
     "output_type": "display_data"
    },
    {
     "data": {
      "text/plain": [
       "\"Band 0 suggests these similar proteins: ['P0CI25', 'P0CI26']\""
      ]
     },
     "metadata": {},
     "output_type": "display_data"
    },
    {
     "data": {
      "text/plain": [
       "\"Band 0 suggests these similar proteins: ['Q16777', 'Q9BTM1', 'Q99878', 'P0C0S8', 'Q8IUE6']\""
      ]
     },
     "metadata": {},
     "output_type": "display_data"
    },
    {
     "data": {
      "text/plain": [
       "\"Band 0 suggests these similar proteins: ['Q6ZUB0', 'P0C874']\""
      ]
     },
     "metadata": {},
     "output_type": "display_data"
    },
    {
     "data": {
      "text/plain": [
       "\"Band 0 suggests these similar proteins: ['P63120', 'P63129']\""
      ]
     },
     "metadata": {},
     "output_type": "display_data"
    },
    {
     "data": {
      "text/plain": [
       "\"Band 0 suggests these similar proteins: ['P0C0S5', 'Q71UI9']\""
      ]
     },
     "metadata": {},
     "output_type": "display_data"
    },
    {
     "data": {
      "text/plain": [
       "\"Band 0 suggests these similar proteins: ['Q6RFH8', 'P0CJ90', 'Q9UBX2']\""
      ]
     },
     "metadata": {},
     "output_type": "display_data"
    },
    {
     "data": {
      "text/plain": [
       "\"Band 0 suggests these similar proteins: ['P19961', 'P0DTE8']\""
      ]
     },
     "metadata": {},
     "output_type": "display_data"
    },
    {
     "data": {
      "text/plain": [
       "\"Band 0 suggests these similar proteins: ['P01593', 'P01594']\""
      ]
     },
     "metadata": {},
     "output_type": "display_data"
    },
    {
     "data": {
      "text/plain": [
       "\"Band 0 suggests these similar proteins: ['P01850', 'A0A5B9']\""
      ]
     },
     "metadata": {},
     "output_type": "display_data"
    },
    {
     "data": {
      "text/plain": [
       "\"Band 0 suggests these similar proteins: ['P01614', 'A0A087WW87']\""
      ]
     },
     "metadata": {},
     "output_type": "display_data"
    },
    {
     "data": {
      "text/plain": [
       "\"Band 0 suggests these similar proteins: ['Q99877', 'P62807', 'Q93079', 'P58876', 'O60814', 'Q5QNW6']\""
      ]
     },
     "metadata": {},
     "output_type": "display_data"
    },
    {
     "data": {
      "text/plain": [
       "\"Band 0 suggests these similar proteins: ['P0C7W8', 'P0C7V4']\""
      ]
     },
     "metadata": {},
     "output_type": "display_data"
    },
    {
     "data": {
      "text/plain": [
       "\"Band 0 suggests these similar proteins: ['P0DPH9', 'A0A1B0GTR3']\""
      ]
     },
     "metadata": {},
     "output_type": "display_data"
    },
    {
     "data": {
      "text/plain": [
       "\"Band 0 suggests these similar proteins: ['O00571', 'O15523']\""
      ]
     },
     "metadata": {},
     "output_type": "display_data"
    },
    {
     "data": {
      "text/plain": [
       "\"Band 0 suggests these similar proteins: ['Q9UQ88', 'P21127']\""
      ]
     },
     "metadata": {},
     "output_type": "display_data"
    },
    {
     "data": {
      "text/plain": [
       "\"Band 0 suggests these similar proteins: ['Q96AQ1', 'Q96LY2']\""
      ]
     },
     "metadata": {},
     "output_type": "display_data"
    },
    {
     "name": "stdout",
     "output_type": "stream",
     "text": [
      "Similar protein pairs for data_d3:\n"
     ]
    },
    {
     "data": {
      "text/html": [
       "<div>\n",
       "<style scoped>\n",
       "    .dataframe tbody tr th:only-of-type {\n",
       "        vertical-align: middle;\n",
       "    }\n",
       "\n",
       "    .dataframe tbody tr th {\n",
       "        vertical-align: top;\n",
       "    }\n",
       "\n",
       "    .dataframe thead th {\n",
       "        text-align: right;\n",
       "    }\n",
       "</style>\n",
       "<table border=\"1\" class=\"dataframe\">\n",
       "  <thead>\n",
       "    <tr style=\"text-align: right;\">\n",
       "      <th></th>\n",
       "      <th>Protein 1</th>\n",
       "      <th>Protein 2</th>\n",
       "      <th>Characteristics Differ</th>\n",
       "      <th>Total Match</th>\n",
       "      <th>Shared Characteristics</th>\n",
       "      <th>Total Characteristics</th>\n",
       "      <th>Jaccard Similarity</th>\n",
       "    </tr>\n",
       "  </thead>\n",
       "  <tbody>\n",
       "    <tr>\n",
       "      <th>0</th>\n",
       "      <td>A0A024RBG1</td>\n",
       "      <td>Q9NZJ9</td>\n",
       "      <td>13</td>\n",
       "      <td>2035</td>\n",
       "      <td>175</td>\n",
       "      <td>188</td>\n",
       "      <td>0.930851</td>\n",
       "    </tr>\n",
       "    <tr>\n",
       "      <th>1</th>\n",
       "      <td>A0A075B6P5</td>\n",
       "      <td>P01615</td>\n",
       "      <td>2</td>\n",
       "      <td>2046</td>\n",
       "      <td>123</td>\n",
       "      <td>125</td>\n",
       "      <td>0.984000</td>\n",
       "    </tr>\n",
       "    <tr>\n",
       "      <th>2</th>\n",
       "      <td>A0A075B6S2</td>\n",
       "      <td>A0A0C4DH68</td>\n",
       "      <td>58</td>\n",
       "      <td>1990</td>\n",
       "      <td>95</td>\n",
       "      <td>153</td>\n",
       "      <td>0.620915</td>\n",
       "    </tr>\n",
       "    <tr>\n",
       "      <th>3</th>\n",
       "      <td>A0A075B6S6</td>\n",
       "      <td>P06310</td>\n",
       "      <td>9</td>\n",
       "      <td>2039</td>\n",
       "      <td>130</td>\n",
       "      <td>139</td>\n",
       "      <td>0.935252</td>\n",
       "    </tr>\n",
       "    <tr>\n",
       "      <th>4</th>\n",
       "      <td>Q6IPX1</td>\n",
       "      <td>A0A087WVF3</td>\n",
       "      <td>29</td>\n",
       "      <td>2019</td>\n",
       "      <td>361</td>\n",
       "      <td>390</td>\n",
       "      <td>0.925641</td>\n",
       "    </tr>\n",
       "    <tr>\n",
       "      <th>5</th>\n",
       "      <td>A0A087WW87</td>\n",
       "      <td>P01614</td>\n",
       "      <td>1</td>\n",
       "      <td>2047</td>\n",
       "      <td>127</td>\n",
       "      <td>128</td>\n",
       "      <td>0.992188</td>\n",
       "    </tr>\n",
       "    <tr>\n",
       "      <th>6</th>\n",
       "      <td>A6NER0</td>\n",
       "      <td>A0A087X179</td>\n",
       "      <td>50</td>\n",
       "      <td>1998</td>\n",
       "      <td>347</td>\n",
       "      <td>397</td>\n",
       "      <td>0.874055</td>\n",
       "    </tr>\n",
       "    <tr>\n",
       "      <th>7</th>\n",
       "      <td>P07919</td>\n",
       "      <td>A0A096LP55</td>\n",
       "      <td>20</td>\n",
       "      <td>2028</td>\n",
       "      <td>90</td>\n",
       "      <td>110</td>\n",
       "      <td>0.818182</td>\n",
       "    </tr>\n",
       "    <tr>\n",
       "      <th>8</th>\n",
       "      <td>A0A0A0MT36</td>\n",
       "      <td>A0A0C4DH24</td>\n",
       "      <td>19</td>\n",
       "      <td>2029</td>\n",
       "      <td>110</td>\n",
       "      <td>129</td>\n",
       "      <td>0.852713</td>\n",
       "    </tr>\n",
       "    <tr>\n",
       "      <th>9</th>\n",
       "      <td>A0JP26</td>\n",
       "      <td>A0A0A6YYL3</td>\n",
       "      <td>51</td>\n",
       "      <td>1997</td>\n",
       "      <td>305</td>\n",
       "      <td>356</td>\n",
       "      <td>0.856742</td>\n",
       "    </tr>\n",
       "    <tr>\n",
       "      <th>10</th>\n",
       "      <td>A0A0B4J2D9</td>\n",
       "      <td>P0DP09</td>\n",
       "      <td>0</td>\n",
       "      <td>2048</td>\n",
       "      <td>114</td>\n",
       "      <td>114</td>\n",
       "      <td>1.000000</td>\n",
       "    </tr>\n",
       "    <tr>\n",
       "      <th>11</th>\n",
       "      <td>A0A0B4J2F2</td>\n",
       "      <td>P57059</td>\n",
       "      <td>24</td>\n",
       "      <td>2024</td>\n",
       "      <td>375</td>\n",
       "      <td>399</td>\n",
       "      <td>0.939850</td>\n",
       "    </tr>\n",
       "    <tr>\n",
       "      <th>12</th>\n",
       "      <td>P01742</td>\n",
       "      <td>A0A0B4J2H0</td>\n",
       "      <td>11</td>\n",
       "      <td>2037</td>\n",
       "      <td>121</td>\n",
       "      <td>132</td>\n",
       "      <td>0.916667</td>\n",
       "    </tr>\n",
       "    <tr>\n",
       "      <th>13</th>\n",
       "      <td>P01619</td>\n",
       "      <td>A0A0C4DH25</td>\n",
       "      <td>30</td>\n",
       "      <td>2018</td>\n",
       "      <td>108</td>\n",
       "      <td>138</td>\n",
       "      <td>0.782609</td>\n",
       "    </tr>\n",
       "    <tr>\n",
       "      <th>14</th>\n",
       "      <td>P01825</td>\n",
       "      <td>P0DP06</td>\n",
       "      <td>15</td>\n",
       "      <td>2033</td>\n",
       "      <td>119</td>\n",
       "      <td>134</td>\n",
       "      <td>0.888060</td>\n",
       "    </tr>\n",
       "    <tr>\n",
       "      <th>15</th>\n",
       "      <td>P01825</td>\n",
       "      <td>A0A0C4DH41</td>\n",
       "      <td>3</td>\n",
       "      <td>2045</td>\n",
       "      <td>124</td>\n",
       "      <td>127</td>\n",
       "      <td>0.976378</td>\n",
       "    </tr>\n",
       "    <tr>\n",
       "      <th>16</th>\n",
       "      <td>P0DP06</td>\n",
       "      <td>A0A0C4DH41</td>\n",
       "      <td>16</td>\n",
       "      <td>2032</td>\n",
       "      <td>118</td>\n",
       "      <td>134</td>\n",
       "      <td>0.880597</td>\n",
       "    </tr>\n",
       "    <tr>\n",
       "      <th>17</th>\n",
       "      <td>P01767</td>\n",
       "      <td>A0A0C4DH42</td>\n",
       "      <td>18</td>\n",
       "      <td>2030</td>\n",
       "      <td>119</td>\n",
       "      <td>137</td>\n",
       "      <td>0.868613</td>\n",
       "    </tr>\n",
       "    <tr>\n",
       "      <th>18</th>\n",
       "      <td>P01597</td>\n",
       "      <td>A0A0C4DH67</td>\n",
       "      <td>51</td>\n",
       "      <td>1997</td>\n",
       "      <td>91</td>\n",
       "      <td>142</td>\n",
       "      <td>0.640845</td>\n",
       "    </tr>\n",
       "    <tr>\n",
       "      <th>19</th>\n",
       "      <td>P01597</td>\n",
       "      <td>P04432</td>\n",
       "      <td>3</td>\n",
       "      <td>2045</td>\n",
       "      <td>114</td>\n",
       "      <td>117</td>\n",
       "      <td>0.974359</td>\n",
       "    </tr>\n",
       "  </tbody>\n",
       "</table>\n",
       "</div>"
      ],
      "text/plain": [
       "     Protein 1   Protein 2  Characteristics Differ  Total Match  \\\n",
       "0   A0A024RBG1      Q9NZJ9                      13         2035   \n",
       "1   A0A075B6P5      P01615                       2         2046   \n",
       "2   A0A075B6S2  A0A0C4DH68                      58         1990   \n",
       "3   A0A075B6S6      P06310                       9         2039   \n",
       "4       Q6IPX1  A0A087WVF3                      29         2019   \n",
       "5   A0A087WW87      P01614                       1         2047   \n",
       "6       A6NER0  A0A087X179                      50         1998   \n",
       "7       P07919  A0A096LP55                      20         2028   \n",
       "8   A0A0A0MT36  A0A0C4DH24                      19         2029   \n",
       "9       A0JP26  A0A0A6YYL3                      51         1997   \n",
       "10  A0A0B4J2D9      P0DP09                       0         2048   \n",
       "11  A0A0B4J2F2      P57059                      24         2024   \n",
       "12      P01742  A0A0B4J2H0                      11         2037   \n",
       "13      P01619  A0A0C4DH25                      30         2018   \n",
       "14      P01825      P0DP06                      15         2033   \n",
       "15      P01825  A0A0C4DH41                       3         2045   \n",
       "16      P0DP06  A0A0C4DH41                      16         2032   \n",
       "17      P01767  A0A0C4DH42                      18         2030   \n",
       "18      P01597  A0A0C4DH67                      51         1997   \n",
       "19      P01597      P04432                       3         2045   \n",
       "\n",
       "    Shared Characteristics  Total Characteristics  Jaccard Similarity  \n",
       "0                      175                    188            0.930851  \n",
       "1                      123                    125            0.984000  \n",
       "2                       95                    153            0.620915  \n",
       "3                      130                    139            0.935252  \n",
       "4                      361                    390            0.925641  \n",
       "5                      127                    128            0.992188  \n",
       "6                      347                    397            0.874055  \n",
       "7                       90                    110            0.818182  \n",
       "8                      110                    129            0.852713  \n",
       "9                      305                    356            0.856742  \n",
       "10                     114                    114            1.000000  \n",
       "11                     375                    399            0.939850  \n",
       "12                     121                    132            0.916667  \n",
       "13                     108                    138            0.782609  \n",
       "14                     119                    134            0.888060  \n",
       "15                     124                    127            0.976378  \n",
       "16                     118                    134            0.880597  \n",
       "17                     119                    137            0.868613  \n",
       "18                      91                    142            0.640845  \n",
       "19                     114                    117            0.974359  "
      ]
     },
     "metadata": {},
     "output_type": "display_data"
    },
    {
     "name": "stdout",
     "output_type": "stream",
     "text": [
      "Similar protein pairs for data_d4:\n"
     ]
    },
    {
     "data": {
      "text/html": [
       "<div>\n",
       "<style scoped>\n",
       "    .dataframe tbody tr th:only-of-type {\n",
       "        vertical-align: middle;\n",
       "    }\n",
       "\n",
       "    .dataframe tbody tr th {\n",
       "        vertical-align: top;\n",
       "    }\n",
       "\n",
       "    .dataframe thead th {\n",
       "        text-align: right;\n",
       "    }\n",
       "</style>\n",
       "<table border=\"1\" class=\"dataframe\">\n",
       "  <thead>\n",
       "    <tr style=\"text-align: right;\">\n",
       "      <th></th>\n",
       "      <th>Protein 1</th>\n",
       "      <th>Protein 2</th>\n",
       "      <th>Characteristics Differ</th>\n",
       "      <th>Total Match</th>\n",
       "      <th>Shared Characteristics</th>\n",
       "      <th>Total Characteristics</th>\n",
       "      <th>Jaccard Similarity</th>\n",
       "    </tr>\n",
       "  </thead>\n",
       "  <tbody>\n",
       "    <tr>\n",
       "      <th>0</th>\n",
       "      <td>P34932</td>\n",
       "      <td>Q16401</td>\n",
       "      <td>2530</td>\n",
       "      <td>18206</td>\n",
       "      <td>696</td>\n",
       "      <td>3226</td>\n",
       "      <td>0.215747</td>\n",
       "    </tr>\n",
       "    <tr>\n",
       "      <th>1</th>\n",
       "      <td>P0CL82</td>\n",
       "      <td>P0DSO3</td>\n",
       "      <td>23</td>\n",
       "      <td>20713</td>\n",
       "      <td>171</td>\n",
       "      <td>194</td>\n",
       "      <td>0.881443</td>\n",
       "    </tr>\n",
       "    <tr>\n",
       "      <th>2</th>\n",
       "      <td>P0CL82</td>\n",
       "      <td>O76087</td>\n",
       "      <td>9</td>\n",
       "      <td>20727</td>\n",
       "      <td>178</td>\n",
       "      <td>187</td>\n",
       "      <td>0.951872</td>\n",
       "    </tr>\n",
       "    <tr>\n",
       "      <th>3</th>\n",
       "      <td>P0CL82</td>\n",
       "      <td>P0CL80</td>\n",
       "      <td>8</td>\n",
       "      <td>20728</td>\n",
       "      <td>178</td>\n",
       "      <td>186</td>\n",
       "      <td>0.956989</td>\n",
       "    </tr>\n",
       "    <tr>\n",
       "      <th>4</th>\n",
       "      <td>P0CL82</td>\n",
       "      <td>P0DTW1</td>\n",
       "      <td>35</td>\n",
       "      <td>20701</td>\n",
       "      <td>162</td>\n",
       "      <td>197</td>\n",
       "      <td>0.822335</td>\n",
       "    </tr>\n",
       "    <tr>\n",
       "      <th>5</th>\n",
       "      <td>P0CL82</td>\n",
       "      <td>P0CL81</td>\n",
       "      <td>7</td>\n",
       "      <td>20729</td>\n",
       "      <td>178</td>\n",
       "      <td>185</td>\n",
       "      <td>0.962162</td>\n",
       "    </tr>\n",
       "    <tr>\n",
       "      <th>6</th>\n",
       "      <td>P0CL82</td>\n",
       "      <td>Q13069</td>\n",
       "      <td>33</td>\n",
       "      <td>20703</td>\n",
       "      <td>165</td>\n",
       "      <td>198</td>\n",
       "      <td>0.833333</td>\n",
       "    </tr>\n",
       "    <tr>\n",
       "      <th>7</th>\n",
       "      <td>P0DSO3</td>\n",
       "      <td>O76087</td>\n",
       "      <td>14</td>\n",
       "      <td>20722</td>\n",
       "      <td>177</td>\n",
       "      <td>191</td>\n",
       "      <td>0.926702</td>\n",
       "    </tr>\n",
       "    <tr>\n",
       "      <th>8</th>\n",
       "      <td>P0DSO3</td>\n",
       "      <td>P0CL80</td>\n",
       "      <td>17</td>\n",
       "      <td>20719</td>\n",
       "      <td>175</td>\n",
       "      <td>192</td>\n",
       "      <td>0.911458</td>\n",
       "    </tr>\n",
       "    <tr>\n",
       "      <th>9</th>\n",
       "      <td>P0DSO3</td>\n",
       "      <td>P0DTW1</td>\n",
       "      <td>18</td>\n",
       "      <td>20718</td>\n",
       "      <td>172</td>\n",
       "      <td>190</td>\n",
       "      <td>0.905263</td>\n",
       "    </tr>\n",
       "    <tr>\n",
       "      <th>10</th>\n",
       "      <td>P0DSO3</td>\n",
       "      <td>P0CL81</td>\n",
       "      <td>22</td>\n",
       "      <td>20714</td>\n",
       "      <td>172</td>\n",
       "      <td>194</td>\n",
       "      <td>0.886598</td>\n",
       "    </tr>\n",
       "    <tr>\n",
       "      <th>11</th>\n",
       "      <td>P0DSO3</td>\n",
       "      <td>Q13069</td>\n",
       "      <td>18</td>\n",
       "      <td>20718</td>\n",
       "      <td>174</td>\n",
       "      <td>192</td>\n",
       "      <td>0.906250</td>\n",
       "    </tr>\n",
       "    <tr>\n",
       "      <th>12</th>\n",
       "      <td>O76087</td>\n",
       "      <td>P0CL80</td>\n",
       "      <td>5</td>\n",
       "      <td>20731</td>\n",
       "      <td>181</td>\n",
       "      <td>186</td>\n",
       "      <td>0.973118</td>\n",
       "    </tr>\n",
       "    <tr>\n",
       "      <th>13</th>\n",
       "      <td>O76087</td>\n",
       "      <td>P0DTW1</td>\n",
       "      <td>32</td>\n",
       "      <td>20704</td>\n",
       "      <td>165</td>\n",
       "      <td>197</td>\n",
       "      <td>0.837563</td>\n",
       "    </tr>\n",
       "    <tr>\n",
       "      <th>14</th>\n",
       "      <td>O76087</td>\n",
       "      <td>P0CL81</td>\n",
       "      <td>10</td>\n",
       "      <td>20726</td>\n",
       "      <td>178</td>\n",
       "      <td>188</td>\n",
       "      <td>0.946809</td>\n",
       "    </tr>\n",
       "    <tr>\n",
       "      <th>15</th>\n",
       "      <td>O76087</td>\n",
       "      <td>Q13069</td>\n",
       "      <td>28</td>\n",
       "      <td>20708</td>\n",
       "      <td>169</td>\n",
       "      <td>197</td>\n",
       "      <td>0.857868</td>\n",
       "    </tr>\n",
       "    <tr>\n",
       "      <th>16</th>\n",
       "      <td>P0CL80</td>\n",
       "      <td>P0DTW1</td>\n",
       "      <td>31</td>\n",
       "      <td>20705</td>\n",
       "      <td>165</td>\n",
       "      <td>196</td>\n",
       "      <td>0.841837</td>\n",
       "    </tr>\n",
       "    <tr>\n",
       "      <th>17</th>\n",
       "      <td>P0CL80</td>\n",
       "      <td>P0CL81</td>\n",
       "      <td>13</td>\n",
       "      <td>20723</td>\n",
       "      <td>176</td>\n",
       "      <td>189</td>\n",
       "      <td>0.931217</td>\n",
       "    </tr>\n",
       "    <tr>\n",
       "      <th>18</th>\n",
       "      <td>P0CL80</td>\n",
       "      <td>Q13069</td>\n",
       "      <td>31</td>\n",
       "      <td>20705</td>\n",
       "      <td>167</td>\n",
       "      <td>198</td>\n",
       "      <td>0.843434</td>\n",
       "    </tr>\n",
       "    <tr>\n",
       "      <th>19</th>\n",
       "      <td>P0DTW1</td>\n",
       "      <td>P0CL81</td>\n",
       "      <td>32</td>\n",
       "      <td>20704</td>\n",
       "      <td>164</td>\n",
       "      <td>196</td>\n",
       "      <td>0.836735</td>\n",
       "    </tr>\n",
       "  </tbody>\n",
       "</table>\n",
       "</div>"
      ],
      "text/plain": [
       "   Protein 1 Protein 2  Characteristics Differ  Total Match  \\\n",
       "0     P34932    Q16401                    2530        18206   \n",
       "1     P0CL82    P0DSO3                      23        20713   \n",
       "2     P0CL82    O76087                       9        20727   \n",
       "3     P0CL82    P0CL80                       8        20728   \n",
       "4     P0CL82    P0DTW1                      35        20701   \n",
       "5     P0CL82    P0CL81                       7        20729   \n",
       "6     P0CL82    Q13069                      33        20703   \n",
       "7     P0DSO3    O76087                      14        20722   \n",
       "8     P0DSO3    P0CL80                      17        20719   \n",
       "9     P0DSO3    P0DTW1                      18        20718   \n",
       "10    P0DSO3    P0CL81                      22        20714   \n",
       "11    P0DSO3    Q13069                      18        20718   \n",
       "12    O76087    P0CL80                       5        20731   \n",
       "13    O76087    P0DTW1                      32        20704   \n",
       "14    O76087    P0CL81                      10        20726   \n",
       "15    O76087    Q13069                      28        20708   \n",
       "16    P0CL80    P0DTW1                      31        20705   \n",
       "17    P0CL80    P0CL81                      13        20723   \n",
       "18    P0CL80    Q13069                      31        20705   \n",
       "19    P0DTW1    P0CL81                      32        20704   \n",
       "\n",
       "    Shared Characteristics  Total Characteristics  Jaccard Similarity  \n",
       "0                      696                   3226            0.215747  \n",
       "1                      171                    194            0.881443  \n",
       "2                      178                    187            0.951872  \n",
       "3                      178                    186            0.956989  \n",
       "4                      162                    197            0.822335  \n",
       "5                      178                    185            0.962162  \n",
       "6                      165                    198            0.833333  \n",
       "7                      177                    191            0.926702  \n",
       "8                      175                    192            0.911458  \n",
       "9                      172                    190            0.905263  \n",
       "10                     172                    194            0.886598  \n",
       "11                     174                    192            0.906250  \n",
       "12                     181                    186            0.973118  \n",
       "13                     165                    197            0.837563  \n",
       "14                     178                    188            0.946809  \n",
       "15                     169                    197            0.857868  \n",
       "16                     165                    196            0.841837  \n",
       "17                     176                    189            0.931217  \n",
       "18                     167                    198            0.843434  \n",
       "19                     164                    196            0.836735  "
      ]
     },
     "metadata": {},
     "output_type": "display_data"
    }
   ],
   "source": [
    "# Test different values of B and R\n",
    "bands_values = [10 ,20, 40, 60, 80, 120]  # Adjust the values as needed\n",
    "rows_values = [2, 4, 8, 10, 16]  # Adjust the values as needed\n",
    "\n",
    "s_values = [0.5, 0.85]\n",
    "probs = get_probabilities(s_values, bands_values, rows_values)\n",
    "\n",
    "probs_df = pd.DataFrame(probs, columns=[\"Probability\", \"Num_band\", \"Num_row\", \"similarity\"])\n",
    "\n",
    "# Only filter out values that pass our requirements\n",
    "promissing_params = probs_df[(((probs_df[\"Probability\"] < 0.3) & (probs_df[\"similarity\"] == 0.5)) & ((probs_df[\"Probability\"] > 0.1) & (probs_df[\"similarity\"] == 0.5))) | ((probs_df[\"Probability\"] > 0.85) & (probs_df[\"similarity\"] == 0.85))]\n",
    "\n",
    "print(\"Final promising parameters\")\n",
    "final_promising = promissing_params[promissing_params.duplicated(subset=[\"Num_band\", \"Num_row\"])]\n",
    "\n",
    "bands_values = [40, 60, 80]\n",
    "rows_values = [8]\n",
    "\n",
    "s_values = [0.5, 0.6, 0.7, 0.85, 0.9, 0.95]\n",
    "probs = get_probabilities(s_values, bands_values, rows_values)\n",
    "final_probs_df = pd.DataFrame(probs, columns=[\"Probability\", \"Num_band\", \"Num_row\", \"similarity\"])\n",
    "display(final_probs_df)\n",
    "\n",
    "# => we will use b = 80 and r = 8 (see our analysis text for detailed explanation)\n",
    "print(\"\\n\\n\\n\\n\")\n",
    "\n",
    "# Create sparse matrices for both datasets\n",
    "sparse_matrix_d3, uniprot_ids_d3 = create_sparse_matrix(data_d3)\n",
    "sparse_matrix_d4, uniprot_ids_d4 = create_sparse_matrix(data_d4)\n",
    "\n",
    "# Create dense matrices for both datasets\n",
    "dense_matrix_d3 = sparse_matrix_d3.toarray()\n",
    "dense_matrix_d4 = sparse_matrix_d4.toarray()\n",
    "\n",
    "df_d3 = pd.DataFrame(dense_matrix_d3, index=uniprot_ids_d3)\n",
    "df_d4 = pd.DataFrame(dense_matrix_d4, index=uniprot_ids_d4)\n",
    "\n",
    "# Use LSHT to find similar proteins\n",
    "buckets_d3 = LSHT(dense_matrix_d3, 80, 8)\n",
    "buckets_d4 = LSHT(dense_matrix_d4, 80, 8)\n",
    "\n",
    "# Extract similar pairs and include Jaccard similarity\n",
    "similar_pairs_d3 = extract_similar_pairs(buckets_d3, uniprot_ids_d3, df_d3)\n",
    "similar_pairs_d4 = extract_similar_pairs(buckets_d4, uniprot_ids_d4, df_d4)\n",
    "\n",
    "# Create DataFrames with Jaccard similarity included\n",
    "df_similar_pairs_d3 = pd.DataFrame(similar_pairs_d3, columns=['Protein 1', 'Protein 2', 'Characteristics Differ', 'Total Match', 'Shared Characteristics', 'Total Characteristics', 'Jaccard Similarity'])\n",
    "df_similar_pairs_d4 = pd.DataFrame(similar_pairs_d4, columns=['Protein 1', 'Protein 2', 'Characteristics Differ', 'Total Match', 'Shared Characteristics', 'Total Characteristics', 'Jaccard Similarity'])\n",
    "\n",
    "display(\"Sparse matrix shape for data_d3:\", sparse_matrix_d3.shape)\n",
    "display(\"Sparse matrix shape for data_d4:\", sparse_matrix_d4.shape)\n",
    "\n",
    "\n",
    "# Display similar protein pairs for data_d3\n",
    "display(\"Similar protein pairs for data_d3:\")\n",
    "count_d3 = 0\n",
    "for (b, buck), docs in buckets_d3.items():\n",
    "    if len(docs) > 1 and count_d3 < 20:\n",
    "        similar_proteins = [uniprot_ids_d3[d] for d in docs]\n",
    "        display(f\"Band {b} suggests these similar proteins: {similar_proteins}\")\n",
    "        count_d3 += 1\n",
    "\n",
    "# Display similar protein pairs for data_d4\n",
    "display(\"Similar protein pairs for data_d4:\")\n",
    "count_d4 = 0\n",
    "for (b, buck), docs in buckets_d4.items():\n",
    "    if len(docs) > 1 and count_d4 < 20:\n",
    "        similar_proteins = [uniprot_ids_d4[d] for d in docs]\n",
    "        display(f\"Band {b} suggests these similar proteins: {similar_proteins}\")\n",
    "        count_d4 += 1\n",
    "        \n",
    "        \n",
    "# Print similar protein pairs for data_d3\n",
    "print(\"Similar protein pairs for data_d3:\")\n",
    "display(df_similar_pairs_d3)\n",
    "\n",
    "# Print similar protein pairs for data_d4\n",
    "print(\"Similar protein pairs for data_d4:\")\n",
    "display(df_similar_pairs_d4)"
   ]
  },
  {
   "cell_type": "markdown",
   "id": "322a87b8-4102-43ff-ac7c-e748df7bcd1f",
   "metadata": {},
   "source": [
    "### Your short analysis here\n",
    "\n",
    "#### **Dataset Overview**\n",
    "We are working with two datasets that correspond to approximately 99% of the Human Proteins. Each dataset is presented in a dictionary format where the key is the UniProtID of a protein and the value is a set of indices representing specific structural characteristics. \n",
    "\n",
    "The datasets are:\n",
    "\n",
    "data_d3.pickle - A smaller set of structural features with 2048 features.\n",
    "\n",
    "data_d4.pickle - A larger set of structural features with 20736 features.\n",
    "\n",
    "### **Local Sensitivity Hashing (LSH)**\n",
    "\n",
    "LSH is performed on both datasets to find similar proteins. The parameters B (number of bands) and R (number of rows per band) are varied to observe the effect on capturing similar protein pairs.\n",
    "\n",
    "\n",
    "\n",
    "For data_d3, the following are some of the similar protein pairs identified using LSH:\n",
    "\n",
    "\n",
    "* Band 0 suggests these similar proteins: ['A0A024RBG1', 'Q9NZJ9']\n",
    "* Band 0 suggests these similar proteins: ['A0A075B6P5', 'P01615']\n",
    "\n",
    "\n",
    "For data_d4, the following are some of the similar protein pairs identified using LSH:\n",
    "\n",
    "* Band 0 suggests these similar proteins: ['P34932', 'Q16401']\n",
    "* Band 0 suggests these similar proteins: ['P0CL82', 'P0DSO3', 'O76087', 'P0CL80', 'P0DTW1', 'P0CL81', 'Q13069']\n",
    "\n",
    "\n",
    "\n",
    "### **Detailed Analysis of Similar Protein Pairs**\n",
    "\n",
    "We analyzed the characteristics of the similar protein pairs identified. Here are some of the detailed results for data_d3:\n",
    "\n",
    "\n",
    "\n",
    "#### For data_d3:\n",
    "\n",
    "* A0A024RBG1 (NUD4B_HUMAN) and Q9NZJ9 (NUDT4_HUMAN) share 177 specific structural characteristics and differ in 13 characteristics, with a total of 188 characteristics that they could share if they were exactly the same protein based on this structural characteristics.\n",
    "* A0A075B6P5 (KV228_HUMAN) and P01615 (KVD28_HUMAN) share 123 specific structural characteristics and differ in 2 characteristics, with a total of 125 characteristics that they could share if they were exactly the same protein based on this structural characteristics.\n",
    "\n",
    "\n",
    "A quick look at the Uniprot website reveals that both pairs belong to the same protein family, suggesting that the matching found using the LSH also has biological relevance.\n",
    "\n",
    "\n",
    "#### For data_d4:\n",
    "\n",
    "\n",
    "* P34932 (HSP74_HUMAN) and Q16401 (PSMD5_HUMAN) share 696 specific structural characteristics and differ in 2530\t characteristics, with a total of 3226 characteristics that they could share if they were exactly the same protein based on this structural characteristics.\n",
    "* P0CL82 (GG12I_HUMAN) and  P0DSO3 (GAGE4_HUMAN) share 171 specific structural characteristics and differ in  23\t characteristics, with a total of 194 characteristics that they could share if they were exactly the same protein based on this structural characteristics.\n",
    "\n",
    "\n",
    "A quick look at the Uniprot website reveals that the frist pair of proteins P34932 (HSP74_HUMAN) and Q16401 (PSMD5_HUMAN) do no share the same protein family or any biological function.\n",
    "For the second group of proteins P0CL82, P0DSO3, O76087, P0CL80, P0DTW1, P0CL81, Q13069 all of them belong to the GAGE family suggesting a biological similarity between them.\n",
    " \n",
    "\n",
    "### Finding the best values for bands and rows\n",
    "\n",
    "In order to find the best values for the hyperparameters bands and rows, we used the following formular: \n",
    "\n",
    "<br>p = 1 - (1 - similarity ** rows) ** bands<br>\n",
    "\n",
    "This formula represents the probability that two documents will share at least one band signature if their similarity is s. It helps to reflect the effectiveness of the LSH parameters b and r in distinguishing similar from dissimilar documents. We are using this method with different combinations of bands and rows and evaluate their results. To decide which values for the parameter we restrict the possible parameters so for a s = 0.5 the probability is smaller 0.3 but higher 0.1 and for s = 0.85 the probability larger 0.85. Our goal is to group the most similar documents but still also documents that are already 0.5 similar to each other should be captured to some extend. We decide for the values b = 80 and r = 8 as this captures the most similar documents but also takes into account documents, in our case proteins, that are only to 60% similar. Other configurations like b = 10 and r = 10 would only capture proteins that are 50% similar to a probabilty of 0.09%, so this is not an option as many combinations will get \"lost\" even though they are similar to some extend.\n",
    "\n",
    "\n",
    "### Challenges along the way:\n",
    "\n",
    "The biggest challenge to us was how to evaluate the resulting entries/ buckets of the LSH in terms of false positives, so we could really evaluate how good the grouping of LSH is. Using the formular **1 - (1 - similarity ** rows) ** bands** that we applied in the, it totally doesn't take into account our data, which therefore was somewhat confusing to us. Therefore in the beginning we run many different configurations for rows and bands and measured there time to at least compare them to some extend. But in order to evaluating the real performance we would need to calculate the Jacard Similarity for every combination, which would be way too computation intensive. In addition we also would need to figure out the false positives, so proteins that got inserted into a single entry of a bucket even though they have high similarity with some other proteins. In the end we decided to just calculate the Jaccard Similarity for the first 20 combinations that are in the same entry of the bucket and evaluate the resulting scores by hand.\n",
    "\n",
    "\n",
    "### **Conclusion**\n",
    "\n",
    "Local Sensitivity Hashing (LSH) effectively captures similar protein pairs in large proteomic datasets. By adjusting the parameters B and R, we can control the granularity of similarity detection and the computational cost. Identifying similar proteins can lead to insights into shared properties and functional relationships, which can be further verified through databases like UniProt.\n",
    "\n",
    "In this specific scenario, when applying LSH to both datasets, it appears that the pairs generated from both data_d3 and data_d4 exhibit greater consistency in overall biological, upon the screening a small subset of  the pairs generated from both datasets.\n",
    "\n",
    "To augment our understanding, we introduced Jaccard similarity, quantitatively evaluating the degree of similarity between protein pairs. This metric provides additional context, indicating the proportion of shared structural characteristics relative to the total characteristics.\n",
    "\n",
    "For instance, considering the pair A0A075B6P5 (KV228_HUMAN) and P01615 (KVD28_HUMAN) from data_d3, their Jaccard similarity of 0.984 suggests a high degree of overlap in their structural characteristics. \n",
    "\n",
    "On the other hand, the pair P0CL82 (GG12I_HUMAN) and  P0DSO3 (GAGE4_HUMAN), from data_d4 that were included in a group with several other proteins exhibit a  Jaccard similarity of 0.881443 that suggests a reasonable degree of overlap in their structural characteristics, on the contrary the P34932 (HSP74_HUMAN) and Q16401 (PSMD5_HUMAN) pair exhibit a Jaccard similarity  of 0.215747 indicating a limited intersection in their structural features,  reinforced by the fact that according to the Uniprot database this proteins do noy share any biological similarity."
   ]
  },
  {
   "cell_type": "markdown",
   "id": "a8043c37-3a4d-4c4d-ab3e-2fae63af06fa",
   "metadata": {},
   "source": [
    "## 3. Do dimensionality reduction \n",
    "\n",
    "Use the techniques discussued in class to make an appropriate dimensional reduction of the selected dataset. It is not necesary to be extensive, **it is better to select one approach and do it well than try a lot of techniques with poor insights and analysis**\n",
    "\n",
    "It is important to do some sensitivity analysis, relating the dataset size reduction to the loss of information\n",
    "\n"
   ]
  },
  {
   "cell_type": "code",
   "execution_count": 92,
   "id": "cdedab1a-54d8-49a3-8c08-4815bfc7d7d2",
   "metadata": {},
   "outputs": [],
   "source": [
    "### Add supporting functions here\n",
    "import math\n",
    "import time\n",
    "import numpy as np\n",
    "import matplotlib.pyplot as plt\n",
    "from scipy.sparse import csr_matrix\n",
    "from scipy.sparse.linalg import svds\n",
    "\n",
    "def convert_to_binary_matrix(data):\n",
    "    # Extract all unique values to create the universe of elements\n",
    "    all_values = set()\n",
    "    for values in data.values():\n",
    "        all_values.update(values)\n",
    "\n",
    "    # Create a mapping from values to index\n",
    "    value_to_index = {value: idx for idx, value in enumerate(all_values)}\n",
    "\n",
    "    # Number of unique elements\n",
    "    num_elements = len(all_values)\n",
    "\n",
    "    # Prepare data for csr_matrix\n",
    "    rows = []\n",
    "    cols = []\n",
    "    data_values = []\n",
    "\n",
    "    for key, values in data.items():\n",
    "        for value in values:\n",
    "            rows.append(key)\n",
    "            cols.append(value_to_index[value])\n",
    "            data_values.append(1)  # Presence of the element\n",
    "\n",
    "    # Convert document IDs to numerical indices\n",
    "    keys_to_index = {}\n",
    "    indices_to_key = {}\n",
    "    for idx, doc in enumerate(data.keys()):\n",
    "        keys_to_index[doc] = idx\n",
    "        indices_to_key[idx] = doc\n",
    "    row_indices = [keys_to_index[doc] for doc in rows]\n",
    "\n",
    "    # Create and return CSR matrix\n",
    "    return csr_matrix((data_values, (row_indices, cols)), shape=(len(data), num_elements)), keys_to_index, indices_to_key"
   ]
  },
  {
   "cell_type": "code",
   "execution_count": 93,
   "id": "72095268-f6c8-4156-98ce-662952ba22fb",
   "metadata": {},
   "outputs": [
    {
     "data": {
      "image/png": "[encoded data removed]",
      "text/plain": [
       "<Figure size 640x480 with 1 Axes>"
      ]
     },
     "metadata": {},
     "output_type": "display_data"
    },
    {
     "name": "stdout",
     "output_type": "stream",
     "text": [
      "Number of singular values to reach 60.0% explained variance: 47\n",
      "Number of singular values to reach 75.0% explained variance: 288\n",
      "Number of singular values to reach 80.0% explained variance: 395\n",
      "Number of singular values to reach 90.0% explained variance: 683\n",
      "Number of singular values to reach 95.0% explained variance: 929\n",
      "\n",
      "The MSE with 929 components is:  0.0077\n"
     ]
    }
   ],
   "source": [
    "### Add processing code here\n",
    "csr_data, keys_to_index, indices_to_key = convert_to_binary_matrix(data_d3)\n",
    "\n",
    "total_variance = np.sum(csr_data.power(2))\n",
    "\n",
    "U, S, V = svds(csr_data.astype(float), k=min(csr_data.shape) - 1)\n",
    "\n",
    "# Since svds returns the singular values in ascending order, sort them in descending order\n",
    "sorted_indices = np.argsort(S)[::-1]\n",
    "S_sorted = S[sorted_indices]\n",
    "U_sorted = U[:, sorted_indices]\n",
    "V_sorted = V[sorted_indices, :]\n",
    "\n",
    "cumulative_explained_variance = np.cumsum(S_sorted**2) / total_variance\n",
    "thresholds = [0.6, 0.75, 0.8, 0.9, 0.95]\n",
    "\n",
    "k_values = np.arange(1, min(csr_data.shape))\n",
    "plt.plot(k_values, cumulative_explained_variance)\n",
    "plt.xlabel(\"Number of Singular values k\")\n",
    "plt.ylabel(\"Cumulative Explained Variance\")\n",
    "plt.title(\"Explained Variance vs. Number of Singular values\")\n",
    "plt.grid(True)\n",
    "plt.show()\n",
    "\n",
    "for threshold in thresholds:\n",
    "    # get the index od the optimal number of k\n",
    "    k_optimal = np.argmax(cumulative_explained_variance >= threshold) + 1\n",
    "    print(f\"Number of singular values to reach {threshold*100}% explained variance: {k_optimal}\")\n",
    "\n",
    "final_threshold = 0.95\n",
    "k_optimal = np.argmax(cumulative_explained_variance >= final_threshold) + 1\n",
    "\n",
    "U, S, V = svds(csr_data.astype(float), k=k_optimal) # perform SVD with optimal k\n",
    "\n",
    "reconstructed_matrix = U @ np.diag(S) @ V\n",
    "original_dense_matrix = csr_data.toarray()\n",
    "\n",
    "MSE=((original_dense_matrix - reconstructed_matrix)**2).mean()\n",
    "print(\"\")\n",
    "print(\"The MSE with %d components is: %7.4f\" % (k_optimal, MSE))"
   ]
  },
  {
   "cell_type": "markdown",
   "id": "547f4a00-01db-4c2c-a7b7-0a0f7ab0d333",
   "metadata": {},
   "source": [
    "## 4. Discuss your findings [to fill on your own]\n",
    "\n",
    "* Comment your results above\n",
    "* Discuss how could they be used for the full Uniprot that currently has about [248 Million proteins](https://www.uniprot.org/uniprotkb/statistics)"
   ]
  },
  {
   "cell_type": "markdown",
   "id": "5f63b17c",
   "metadata": {},
   "source": [
    "### Summary of code and key findings:\n",
    "\n",
    "To perform dimensionality reduction there are a many different options. In a Data Mining concept doing Feature Selection is a rather uncommon approach as the there is a large amount of data, containing usually many features. Therefore dimensionality reduction is a more common approach for these large amounts of data. The most two common approaches are PCA and SVD. As our data is very sparse we decide to stick to SVD as it is known as a good option to work with sparse matrices.\n",
    "\n",
    "In SVD the data, in form of a matrix, get divided into three matrices: U, S, V. The method transforms the original data into a new set of orthogonal basis vectors (singular vectors) that capture the most significant directions of variance in the data. For this reason the method requires the parameter k, which determines the number of singular values the data should be transformed in. Depending on the percentage of explained variance the transformed data should still include, this parameter has to be chosen accordingly.\n",
    "\n",
    "As calculating every possible configuration of k would be quite computational intensive, this approach is not an option. As k, determines the number of singular vectors in the transformed matrices, we know, that setting this value to the number of columns/ features of the original data will result in a explained variance of 100% and therefore no loss will be achieved. Looking at the matrix S, which is a diagonal matrix with singular values on the diagonal, we can obtain the singular values that the data got transformed to. Using these values and performing the cumulative sum of the values squared and divide this by the total variance of the data, we get the cumulative explained variance of the singular values. By doing so we can investigate the percantage of explained variance that x-number of singular values capture/ explain. This way we can find the optimal value for k to achieve the desired explained variance in the transformed data.\n",
    "\n",
    "Looking at the implementation, we first convert our data into a binary sparse matrix. To perform SVD we are using **svds()** from scipy.sparse.linalg. This method can handle sparse matrices in the scipy-format. We set k to the number of columns of our data - 1, as the index starts at 0. As the resulting matrices from svds() returns the singular values in ascending order, we need to sort them in descending order. Only this way we can easily cumulate the sum of the singular values. In order to get the cumulative explained variance we apply the following formular: **np.cumsum(S_sorted^2) / total_variance**\n",
    "\n",
    "Plotting the results gives us interesting insights (total number of columns = 2048 for data_d3):\n",
    "- Using only 47 singular values we already achieve 60% of explained variance\n",
    "- Using 288 we achieve 75%\n",
    "- Using 683 we achieve 90%\n",
    "- Using 929 we achieve 95% of explained variance. This is less than half of all columns of the original data\n",
    "\n",
    "Looking at these results it becomes clear why dimensionality reduction is so powerful and useful.\n",
    "\n",
    "As we don't want to loose too much information we decide on a threshold of 95%, therefore k = 929. Lastly we calculate the SVD with now the optimal number of k for our defined goal. **The resulting U matrix contains the new representation of the reduced data.** As a last step we calculate the MSE of the original data with the reassembled data, using the three created matrices, and get a value of 0.0077. This shows us, that almost no loss happend. But still, the new matrix U only contains 929 columns (instead of 2048 in the original).\n",
    "\n",
    "\n",
    "### Full Applicability to Uniprot:\n",
    "\n",
    "In order to perform LSH and SVD with the whole scope of data different aspects need to be taken into account:\n",
    "\n",
    "First, Uniprot's vast dataset, composed by approximately 248 million proteins, will require distributed computing approaches to manage both the computational load and the storage effectively.\n",
    "\n",
    "Converting the data into binary format and then storing them in a sparse matrix is definitely necessary, to reduce computational load and used memory storage.\n",
    "\n",
    "##### For LSH:\n",
    "* Parameter Optimization: For example involving more sophisticated methods to determine the optimal number of bands and rows per band (Grid search for cross validation, ML models). As we saw when plotting the time taken for the different settings, choosing the correct number of bands and rows is of high importance.\n",
    "* Integration with intense Biological Validation: Ensuring that the similar pairs identified through LSH are biologically relevant is essential. This could involve integrating LSH outputs with other biological databases or literature (Literature mining and Database integration) to verify functional relationships.\n",
    "\n",
    "##### For SVD:\n",
    "Currently our approach for SVD is already very efficient in our opinion, but a few things need to be adapted:\n",
    "- Converting the data into binary and storing them in a sparse matrix is very important, especially as the dimensions of the data increase\n",
    "- The approach to identify the optimal k needs to be adapted:\n",
    "    - Probably calculating the SVD with k = the number of columns in the data is not a good approach. Therefore a more efficient way to calculate the optimal k needs to be found. But as we see from our results (plot) already a small percentage of the columns explain a large amount of the data. For this reason testing different k's in the range of column-length / 4 should already give promising results\n",
    "- another thought is to investigate the number of dimensions for the whole Uniport data. It could be, that the number of columns will exceed the number of rows. If this is the case, transposing the matrix and applying SVD on the rows instead of the columns could be a good approach.\n",
    "\n",
    "##### General Considerations for Implementation:\n",
    "* Distributed Computing: Both LSH and dimensionality reduction should be implemented within a distributed computing framework to manage the data volume effectively. Technologies like Apache Spark or Hadoop would be employed to parallelize these processes across multiple computing nodes.\n",
    "* Incremental Learning and Processing: Considering the dynamic nature of Uniprot, where new proteins are continually added, incremental approaches to LSH and SVD might be necessary. This would involve updating the models periodically without reprocessing the entire dataset from scratch."
   ]
  }
 ],
 "metadata": {
  "kernelspec": {
   "display_name": "uni-notebooks-3.10",
   "language": "python",
   "name": "uni-notebooks-3.10"
  },
  "language_info": {
   "codemirror_mode": {
    "name": "ipython",
    "version": 3
   },
   "file_extension": ".py",
   "mimetype": "text/x-python",
   "name": "python",
   "nbconvert_exporter": "python",
   "pygments_lexer": "ipython3",
   "version": "3.11.6"
  }
 },
 "nbformat": 4,
 "nbformat_minor": 5
}
