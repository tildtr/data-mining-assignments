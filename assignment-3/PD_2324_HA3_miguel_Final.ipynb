{
 "cells": [
  {
   "cell_type": "markdown",
   "id": "333368e3-bb42-466c-8823-c45ed71f970f",
   "metadata": {},
   "source": [
    "# Prospecção de Dados (Data Mining) DI/FCUL - HA3\n",
    "\n",
    "## Third Home Assignement (MC/DI/FCUL - 2024)\n",
    "\n",
    "### Fill in the section below\n",
    "\n",
    "### GROUP: `13`\n",
    "\n",
    "* Miguel Landum, 35019 - Hours worked on the project\n",
    "* Niklas Schmitz, 62689 - Hours worked on the project\n",
    "* Pol Parra, 62692 - Hours worked on the project\n",
    "* Til Dietrich, 62928 - Hours worked on the project\n",
    "\n",
    "\n",
    "\n",
    "\n",
    "The purpose of this Home Assignment is\n",
    "* Find similar items with Local Sensitivity Hashing\n",
    "* Do Dimensionality Reduction\n",
    "\n",
    "**NOTE 1: Students are not allowed to add more cells to the notebook**\n",
    "\n",
    "**NOTE 2: The notebook must be submited fully executed**\n",
    "\n",
    "**NOTE 3: Name of notebook should be: HA3_GROUP-XX.ipynb (where XX is the group number)**\n"
   ]
  },
  {
   "cell_type": "markdown",
   "id": "56959b24",
   "metadata": {},
   "source": [
    "**NOTE to run code locally:** add data (data_d3.pickle, data_d4.pickle) to **assignment-3/data/** folder"
   ]
  },
  {
   "cell_type": "markdown",
   "id": "15a40f24-0da5-4b96-90f3-84259cbd1bc5",
   "metadata": {},
   "source": [
    "## 1. Read the Dataset\n",
    "\n",
    "The dataset correspond to about 99% of the Human Proteome (set of known Human Proteins - about 19,500), coded with specific structural elements. They are presented in a dictionary where the key is the [UniprotID](https://www.uniprot.org/) of the protein and the value is a set of indices of a specific structural characteristic\n",
    "\n",
    "Students can use one of two datasets, that are **not** subsets of each other: \n",
    "* `data_d3.pickle` - smaller set of structural features (2048)\n",
    "* `data_d4.pickle` - much larger set of structural features (20736) **Note:** This dataset has been Zipped to fit into moodle. Students should unzip it before usage \n",
    "\n",
    "Select **one** of the datasets and perform all analyses with it. \n",
    "\n",
    "It may be adviseable the usage of sparse matrices, especially for the `d4` dataset\n",
    "\n"
   ]
  },
  {
   "cell_type": "code",
   "execution_count": 1,
   "id": "aa918e91-c325-4c1d-8e8d-93d411035a37",
   "metadata": {},
   "outputs": [],
   "source": [
    "### Your code Here\n",
    "import pickle\n",
    "import numpy as np\n",
    "from scipy.sparse import csr_matrix\n",
    "import pandas as pd\n",
    "import matplotlib.pyplot as plt\n",
    "from IPython.display import display\n",
    "import itertools\n",
    "import time\n",
    "\n",
    "data_d3=pickle.load(open(\"data_d3.pickle\", \"rb\"))\n",
    "data_d4=pickle.load(open(\"data_d4.pickle\", \"rb\"))"
   ]
  },
  {
   "cell_type": "markdown",
   "id": "853614f3-1e1b-4481-9784-e29dd0b453cb",
   "metadata": {},
   "source": [
    "## 2. Perform Local Sensitivity Hashing (LSH)\n",
    "\n",
    "* examine the selected dataset in terms of similarities and select a set of LSH parameters able to capture the most similar proteins\n",
    "* Comment your results\n",
    "\n",
    "**BONUS POINTS:** It might be interesting to identify **some** of the candidate pairs in Uniprot, to check if they share some of the same properties (e.g. for [protein P28223](https://www.uniprot.org/uniprotkb/P28223/entry))\n"
   ]
  },
  {
   "cell_type": "code",
   "execution_count": 2,
   "id": "ead806d9-8073-4fc0-9668-68ad0b89077f",
   "metadata": {},
   "outputs": [],
   "source": [
    "import pickle\n",
    "import numpy as np\n",
    "from scipy.sparse import csr_matrix\n",
    "import pandas as pd\n",
    "from IPython.display import display\n",
    "import itertools\n",
    "\n",
    "data_d3 = pickle.load(open(\"data_d3.pickle\", \"rb\"))\n",
    "data_d4 = pickle.load(open(\"data_d4.pickle\", \"rb\"))\n",
    "\n",
    "### Add supporting functions here\n",
    "def create_sparse_matrix(data):\n",
    "    uniprot_ids = list(data.keys())\n",
    "    structural_features = list(data.values())\n",
    "\n",
    "    # Find the number of unique features\n",
    "    num_features = max(max(indices) for indices in structural_features) + 1\n",
    "\n",
    "    # Prepare data for csr_matrix\n",
    "    matrix_data = []\n",
    "    rows = []\n",
    "    cols = []\n",
    "\n",
    "    for row, indices in enumerate(structural_features):\n",
    "        rows.extend([row] * len(indices))\n",
    "        cols.extend(indices)\n",
    "        matrix_data.extend([1] * len(indices))\n",
    "\n",
    "    # Create the sparse matrix\n",
    "    sparse_matrix = csr_matrix((matrix_data, (rows, cols)), shape=(len(uniprot_ids), num_features))\n",
    "    \n",
    "    return sparse_matrix, uniprot_ids\n",
    "\n",
    "\n",
    "# Create sparse matrices for both datasets\n",
    "sparse_matrix_d3, uniprot_ids_d3 = create_sparse_matrix(data_d3)\n",
    "sparse_matrix_d4, uniprot_ids_d4 = create_sparse_matrix(data_d4)\n",
    "\n",
    "# Create dense matrices for both datasets\n",
    "dense_matrix_d3 = sparse_matrix_d3.toarray()\n",
    "dense_matrix_d4 = sparse_matrix_d4.toarray()\n",
    "\n",
    "df_d3 = pd.DataFrame(dense_matrix_d3, index=uniprot_ids_d3)\n",
    "df_d4 = pd.DataFrame(dense_matrix_d4, index=uniprot_ids_d4)\n",
    "\n",
    "def MakeBucketsT(TDocs, perms, N, B, R, NB):\n",
    "    Buckets = {}\n",
    "    all_docs = set(range(N))\n",
    "    for b in range(B):\n",
    "        SIGS = np.zeros((N, R), dtype=\"int32\")\n",
    "        for r in range(R):\n",
    "            perm = perms[b * R + r]\n",
    "            L = all_docs.copy()\n",
    "            i = 0\n",
    "            while len(L) > 0:\n",
    "                elem = perm[i]\n",
    "                docs_found = TDocs[elem] & L\n",
    "                if len(docs_found) > 0:\n",
    "                    SIGS[list(docs_found), r] = i\n",
    "                    L = L - docs_found\n",
    "                i += 1\n",
    "                if i == len(perm):\n",
    "                    SIGS[list(L), r] = i\n",
    "                    L = set()\n",
    "        for d in range(N):\n",
    "            bucket = hash(tuple(SIGS[d])) % NB\n",
    "            Buckets.setdefault((b, bucket), set()).add(d)\n",
    "    return Buckets\n",
    "\n",
    "def LSHT(Data, B, R, NB=28934501):\n",
    "    N, M = Data.shape\n",
    "    DT = Data.T  # Transpose the matrix\n",
    "    DataT = [set(np.where(DT[i] == 1)[0]) for i in range(M)]  # Adjust indexing for dense matrix\n",
    "    P = B * R\n",
    "    np.random.seed(3)\n",
    "    perms = [np.random.permutation(M) for _ in range(P)]\n",
    "    buckets = MakeBucketsT(DataT, perms, N, B, R, NB)\n",
    "    return buckets\n",
    "\n",
    "# Use LSHT to find similar proteins\n",
    "buckets_d3 = LSHT(dense_matrix_d3, 80, 8)\n",
    "buckets_d4 = LSHT(dense_matrix_d4, 80, 8)\n",
    "\n",
    "\n",
    "def compare_characteristics(df, proteins):\n",
    "    subset = df.loc[proteins]\n",
    "    num_columns_differ = (subset.iloc[0] != subset.iloc[1]).sum()\n",
    "    total_columns = len(subset.columns)\n",
    "    num_columns_match = total_columns - num_columns_differ\n",
    "\n",
    "    # Calculate the number of shared 1s between the proteins\n",
    "    shared_1s = ((subset.iloc[0] == 1) & (subset.iloc[1] == 1)).sum()\n",
    "\n",
    "    # Calculate the total number of 1s if both proteins had the same characteristics\n",
    "    total_1s = subset.iloc[0].sum() + subset.iloc[1].sum() - shared_1s\n",
    "\n",
    "    return num_columns_differ, num_columns_match, shared_1s, total_1s\n",
    "\n",
    "def jaccard_similarity(protein1, protein2):\n",
    "    intersection = np.sum(np.minimum(protein1, protein2))\n",
    "    union = np.sum(np.maximum(protein1, protein2))\n",
    "    return intersection / union\n",
    "\n",
    "def extract_similar_pairs(buckets, uniprot_ids, df):\n",
    "    similar_pairs = []\n",
    "    for (b, buck), docs in buckets.items():\n",
    "        if len(docs) > 1:\n",
    "            #print(\"Band\", b, \"suggests these similar docs:\", [uniprot_ids[d] for d in docs])\n",
    "            combs = itertools.combinations(docs, 2)\n",
    "            for i, j in combs:\n",
    "                protein1 = df.iloc[i].values\n",
    "                protein2 = df.iloc[j].values\n",
    "                jaccard_sim = jaccard_similarity(protein1, protein2)\n",
    "                \n",
    "\n",
    "                num_differ, num_match, shared_1s, total_1s = compare_characteristics(df, [uniprot_ids[i], uniprot_ids[j]])\n",
    "                similar_pairs.append((uniprot_ids[i], uniprot_ids[j], num_differ, num_match, shared_1s, total_1s, jaccard_sim))\n",
    "                \n",
    "                if len(similar_pairs) >= 20:  # Limit to 20 pairs\n",
    "                    return similar_pairs\n",
    "    return similar_pairs\n",
    "\n",
    "# Extract similar pairs and include Jaccard similarity\n",
    "similar_pairs_d3 = extract_similar_pairs(buckets_d3, uniprot_ids_d3, df_d3)\n",
    "similar_pairs_d4 = extract_similar_pairs(buckets_d4, uniprot_ids_d4, df_d4)\n",
    "\n",
    "# Create DataFrames with Jaccard similarity included\n",
    "df_similar_pairs_d3 = pd.DataFrame(similar_pairs_d3, columns=['Protein 1', 'Protein 2', 'Characteristics Differ', 'Total Match', 'Shared Characteristics', 'Total Characteristics', 'Jaccard Similarity'])\n",
    "df_similar_pairs_d4 = pd.DataFrame(similar_pairs_d4, columns=['Protein 1', 'Protein 2', 'Characteristics Differ', 'Total Match', 'Shared Characteristics', 'Total Characteristics', 'Jaccard Similarity'])\n"
   ]
  },
  {
   "cell_type": "code",
   "execution_count": 3,
   "id": "9bfcfb47",
   "metadata": {},
   "outputs": [
    {
     "data": {
      "text/plain": [
       "'Sparse matrix shape for data_d3:'"
      ]
     },
     "metadata": {},
     "output_type": "display_data"
    },
    {
     "data": {
      "text/plain": [
       "(19258, 2048)"
      ]
     },
     "metadata": {},
     "output_type": "display_data"
    },
    {
     "data": {
      "text/plain": [
       "'Sparse matrix shape for data_d4:'"
      ]
     },
     "metadata": {},
     "output_type": "display_data"
    },
    {
     "data": {
      "text/plain": [
       "(19258, 20736)"
      ]
     },
     "metadata": {},
     "output_type": "display_data"
    },
    {
     "data": {
      "text/plain": [
       "'Similar protein pairs for data_d3:'"
      ]
     },
     "metadata": {},
     "output_type": "display_data"
    },
    {
     "data": {
      "text/plain": [
       "\"Band 0 suggests these similar proteins: ['A0A024RBG1', 'Q9NZJ9']\""
      ]
     },
     "metadata": {},
     "output_type": "display_data"
    },
    {
     "data": {
      "text/plain": [
       "\"Band 0 suggests these similar proteins: ['A0A075B6P5', 'P01615']\""
      ]
     },
     "metadata": {},
     "output_type": "display_data"
    },
    {
     "data": {
      "text/plain": [
       "\"Band 0 suggests these similar proteins: ['A0A075B6S2', 'A0A0C4DH68']\""
      ]
     },
     "metadata": {},
     "output_type": "display_data"
    },
    {
     "data": {
      "text/plain": [
       "\"Band 0 suggests these similar proteins: ['A0A075B6S6', 'P06310']\""
      ]
     },
     "metadata": {},
     "output_type": "display_data"
    },
    {
     "data": {
      "text/plain": [
       "\"Band 0 suggests these similar proteins: ['Q6IPX1', 'A0A087WVF3']\""
      ]
     },
     "metadata": {},
     "output_type": "display_data"
    },
    {
     "data": {
      "text/plain": [
       "\"Band 0 suggests these similar proteins: ['A0A087WW87', 'P01614']\""
      ]
     },
     "metadata": {},
     "output_type": "display_data"
    },
    {
     "data": {
      "text/plain": [
       "\"Band 0 suggests these similar proteins: ['A6NER0', 'A0A087X179']\""
      ]
     },
     "metadata": {},
     "output_type": "display_data"
    },
    {
     "data": {
      "text/plain": [
       "\"Band 0 suggests these similar proteins: ['P07919', 'A0A096LP55']\""
      ]
     },
     "metadata": {},
     "output_type": "display_data"
    },
    {
     "data": {
      "text/plain": [
       "\"Band 0 suggests these similar proteins: ['A0A0A0MT36', 'A0A0C4DH24']\""
      ]
     },
     "metadata": {},
     "output_type": "display_data"
    },
    {
     "data": {
      "text/plain": [
       "\"Band 0 suggests these similar proteins: ['A0JP26', 'A0A0A6YYL3']\""
      ]
     },
     "metadata": {},
     "output_type": "display_data"
    },
    {
     "data": {
      "text/plain": [
       "\"Band 0 suggests these similar proteins: ['A0A0B4J2D9', 'P0DP09']\""
      ]
     },
     "metadata": {},
     "output_type": "display_data"
    },
    {
     "data": {
      "text/plain": [
       "\"Band 0 suggests these similar proteins: ['A0A0B4J2F2', 'P57059']\""
      ]
     },
     "metadata": {},
     "output_type": "display_data"
    },
    {
     "data": {
      "text/plain": [
       "\"Band 0 suggests these similar proteins: ['P01742', 'A0A0B4J2H0']\""
      ]
     },
     "metadata": {},
     "output_type": "display_data"
    },
    {
     "data": {
      "text/plain": [
       "\"Band 0 suggests these similar proteins: ['P01619', 'A0A0C4DH25']\""
      ]
     },
     "metadata": {},
     "output_type": "display_data"
    },
    {
     "data": {
      "text/plain": [
       "\"Band 0 suggests these similar proteins: ['P01825', 'P0DP06', 'A0A0C4DH41']\""
      ]
     },
     "metadata": {},
     "output_type": "display_data"
    },
    {
     "data": {
      "text/plain": [
       "\"Band 0 suggests these similar proteins: ['P01767', 'A0A0C4DH42']\""
      ]
     },
     "metadata": {},
     "output_type": "display_data"
    },
    {
     "data": {
      "text/plain": [
       "\"Band 0 suggests these similar proteins: ['P01597', 'A0A0C4DH67', 'P04432']\""
      ]
     },
     "metadata": {},
     "output_type": "display_data"
    },
    {
     "data": {
      "text/plain": [
       "\"Band 0 suggests these similar proteins: ['P01611', 'A0A0C4DH73']\""
      ]
     },
     "metadata": {},
     "output_type": "display_data"
    },
    {
     "data": {
      "text/plain": [
       "\"Band 0 suggests these similar proteins: ['P0DPF7', 'A0A0J9YXY3']\""
      ]
     },
     "metadata": {},
     "output_type": "display_data"
    },
    {
     "data": {
      "text/plain": [
       "\"Band 0 suggests these similar proteins: ['A0A1B0GTK5', 'P0DP71']\""
      ]
     },
     "metadata": {},
     "output_type": "display_data"
    },
    {
     "data": {
      "text/plain": [
       "'Similar protein pairs for data_d4:'"
      ]
     },
     "metadata": {},
     "output_type": "display_data"
    },
    {
     "data": {
      "text/plain": [
       "\"Band 0 suggests these similar proteins: ['P34932', 'Q16401']\""
      ]
     },
     "metadata": {},
     "output_type": "display_data"
    },
    {
     "data": {
      "text/plain": [
       "\"Band 0 suggests these similar proteins: ['P0CL82', 'P0DSO3', 'O76087', 'P0CL80', 'P0DTW1', 'P0CL81', 'Q13069']\""
      ]
     },
     "metadata": {},
     "output_type": "display_data"
    },
    {
     "data": {
      "text/plain": [
       "\"Band 0 suggests these similar proteins: ['P47813', 'O14602']\""
      ]
     },
     "metadata": {},
     "output_type": "display_data"
    },
    {
     "data": {
      "text/plain": [
       "\"Band 0 suggests these similar proteins: ['Q9QC07', 'Q9BXR3', 'Q9UQG0', 'P10266']\""
      ]
     },
     "metadata": {},
     "output_type": "display_data"
    },
    {
     "data": {
      "text/plain": [
       "\"Band 0 suggests these similar proteins: ['P0CI25', 'P0CI26']\""
      ]
     },
     "metadata": {},
     "output_type": "display_data"
    },
    {
     "data": {
      "text/plain": [
       "\"Band 0 suggests these similar proteins: ['Q16777', 'Q9BTM1', 'Q99878', 'P0C0S8', 'Q8IUE6']\""
      ]
     },
     "metadata": {},
     "output_type": "display_data"
    },
    {
     "data": {
      "text/plain": [
       "\"Band 0 suggests these similar proteins: ['Q6ZUB0', 'P0C874']\""
      ]
     },
     "metadata": {},
     "output_type": "display_data"
    },
    {
     "data": {
      "text/plain": [
       "\"Band 0 suggests these similar proteins: ['P63120', 'P63129']\""
      ]
     },
     "metadata": {},
     "output_type": "display_data"
    },
    {
     "data": {
      "text/plain": [
       "\"Band 0 suggests these similar proteins: ['P0C0S5', 'Q71UI9']\""
      ]
     },
     "metadata": {},
     "output_type": "display_data"
    },
    {
     "data": {
      "text/plain": [
       "\"Band 0 suggests these similar proteins: ['Q6RFH8', 'P0CJ90', 'Q9UBX2']\""
      ]
     },
     "metadata": {},
     "output_type": "display_data"
    },
    {
     "data": {
      "text/plain": [
       "\"Band 0 suggests these similar proteins: ['P19961', 'P0DTE8']\""
      ]
     },
     "metadata": {},
     "output_type": "display_data"
    },
    {
     "data": {
      "text/plain": [
       "\"Band 0 suggests these similar proteins: ['P01593', 'P01594']\""
      ]
     },
     "metadata": {},
     "output_type": "display_data"
    },
    {
     "data": {
      "text/plain": [
       "\"Band 0 suggests these similar proteins: ['P01850', 'A0A5B9']\""
      ]
     },
     "metadata": {},
     "output_type": "display_data"
    },
    {
     "data": {
      "text/plain": [
       "\"Band 0 suggests these similar proteins: ['P01614', 'A0A087WW87']\""
      ]
     },
     "metadata": {},
     "output_type": "display_data"
    },
    {
     "data": {
      "text/plain": [
       "\"Band 0 suggests these similar proteins: ['Q99877', 'P62807', 'Q93079', 'P58876', 'O60814', 'Q5QNW6']\""
      ]
     },
     "metadata": {},
     "output_type": "display_data"
    },
    {
     "data": {
      "text/plain": [
       "\"Band 0 suggests these similar proteins: ['P0C7W8', 'P0C7V4']\""
      ]
     },
     "metadata": {},
     "output_type": "display_data"
    },
    {
     "data": {
      "text/plain": [
       "\"Band 0 suggests these similar proteins: ['P0DPH9', 'A0A1B0GTR3']\""
      ]
     },
     "metadata": {},
     "output_type": "display_data"
    },
    {
     "data": {
      "text/plain": [
       "\"Band 0 suggests these similar proteins: ['O00571', 'O15523']\""
      ]
     },
     "metadata": {},
     "output_type": "display_data"
    },
    {
     "data": {
      "text/plain": [
       "\"Band 0 suggests these similar proteins: ['Q9UQ88', 'P21127']\""
      ]
     },
     "metadata": {},
     "output_type": "display_data"
    },
    {
     "data": {
      "text/plain": [
       "\"Band 0 suggests these similar proteins: ['Q96AQ1', 'Q96LY2']\""
      ]
     },
     "metadata": {},
     "output_type": "display_data"
    },
    {
     "name": "stdout",
     "output_type": "stream",
     "text": [
      "Similar protein pairs for data_d3:\n"
     ]
    },
    {
     "data": {
      "text/html": [
       "<div>\n",
       "<style scoped>\n",
       "    .dataframe tbody tr th:only-of-type {\n",
       "        vertical-align: middle;\n",
       "    }\n",
       "\n",
       "    .dataframe tbody tr th {\n",
       "        vertical-align: top;\n",
       "    }\n",
       "\n",
       "    .dataframe thead th {\n",
       "        text-align: right;\n",
       "    }\n",
       "</style>\n",
       "<table border=\"1\" class=\"dataframe\">\n",
       "  <thead>\n",
       "    <tr style=\"text-align: right;\">\n",
       "      <th></th>\n",
       "      <th>Protein 1</th>\n",
       "      <th>Protein 2</th>\n",
       "      <th>Characteristics Differ</th>\n",
       "      <th>Total Match</th>\n",
       "      <th>Shared Characteristics</th>\n",
       "      <th>Total Characteristics</th>\n",
       "      <th>Jaccard Similarity</th>\n",
       "    </tr>\n",
       "  </thead>\n",
       "  <tbody>\n",
       "    <tr>\n",
       "      <th>0</th>\n",
       "      <td>A0A024RBG1</td>\n",
       "      <td>Q9NZJ9</td>\n",
       "      <td>13</td>\n",
       "      <td>2035</td>\n",
       "      <td>175</td>\n",
       "      <td>188</td>\n",
       "      <td>0.930851</td>\n",
       "    </tr>\n",
       "    <tr>\n",
       "      <th>1</th>\n",
       "      <td>A0A075B6P5</td>\n",
       "      <td>P01615</td>\n",
       "      <td>2</td>\n",
       "      <td>2046</td>\n",
       "      <td>123</td>\n",
       "      <td>125</td>\n",
       "      <td>0.984000</td>\n",
       "    </tr>\n",
       "    <tr>\n",
       "      <th>2</th>\n",
       "      <td>A0A075B6S2</td>\n",
       "      <td>A0A0C4DH68</td>\n",
       "      <td>58</td>\n",
       "      <td>1990</td>\n",
       "      <td>95</td>\n",
       "      <td>153</td>\n",
       "      <td>0.620915</td>\n",
       "    </tr>\n",
       "    <tr>\n",
       "      <th>3</th>\n",
       "      <td>A0A075B6S6</td>\n",
       "      <td>P06310</td>\n",
       "      <td>9</td>\n",
       "      <td>2039</td>\n",
       "      <td>130</td>\n",
       "      <td>139</td>\n",
       "      <td>0.935252</td>\n",
       "    </tr>\n",
       "    <tr>\n",
       "      <th>4</th>\n",
       "      <td>Q6IPX1</td>\n",
       "      <td>A0A087WVF3</td>\n",
       "      <td>29</td>\n",
       "      <td>2019</td>\n",
       "      <td>361</td>\n",
       "      <td>390</td>\n",
       "      <td>0.925641</td>\n",
       "    </tr>\n",
       "    <tr>\n",
       "      <th>5</th>\n",
       "      <td>A0A087WW87</td>\n",
       "      <td>P01614</td>\n",
       "      <td>1</td>\n",
       "      <td>2047</td>\n",
       "      <td>127</td>\n",
       "      <td>128</td>\n",
       "      <td>0.992188</td>\n",
       "    </tr>\n",
       "    <tr>\n",
       "      <th>6</th>\n",
       "      <td>A6NER0</td>\n",
       "      <td>A0A087X179</td>\n",
       "      <td>50</td>\n",
       "      <td>1998</td>\n",
       "      <td>347</td>\n",
       "      <td>397</td>\n",
       "      <td>0.874055</td>\n",
       "    </tr>\n",
       "    <tr>\n",
       "      <th>7</th>\n",
       "      <td>P07919</td>\n",
       "      <td>A0A096LP55</td>\n",
       "      <td>20</td>\n",
       "      <td>2028</td>\n",
       "      <td>90</td>\n",
       "      <td>110</td>\n",
       "      <td>0.818182</td>\n",
       "    </tr>\n",
       "    <tr>\n",
       "      <th>8</th>\n",
       "      <td>A0A0A0MT36</td>\n",
       "      <td>A0A0C4DH24</td>\n",
       "      <td>19</td>\n",
       "      <td>2029</td>\n",
       "      <td>110</td>\n",
       "      <td>129</td>\n",
       "      <td>0.852713</td>\n",
       "    </tr>\n",
       "    <tr>\n",
       "      <th>9</th>\n",
       "      <td>A0JP26</td>\n",
       "      <td>A0A0A6YYL3</td>\n",
       "      <td>51</td>\n",
       "      <td>1997</td>\n",
       "      <td>305</td>\n",
       "      <td>356</td>\n",
       "      <td>0.856742</td>\n",
       "    </tr>\n",
       "    <tr>\n",
       "      <th>10</th>\n",
       "      <td>A0A0B4J2D9</td>\n",
       "      <td>P0DP09</td>\n",
       "      <td>0</td>\n",
       "      <td>2048</td>\n",
       "      <td>114</td>\n",
       "      <td>114</td>\n",
       "      <td>1.000000</td>\n",
       "    </tr>\n",
       "    <tr>\n",
       "      <th>11</th>\n",
       "      <td>A0A0B4J2F2</td>\n",
       "      <td>P57059</td>\n",
       "      <td>24</td>\n",
       "      <td>2024</td>\n",
       "      <td>375</td>\n",
       "      <td>399</td>\n",
       "      <td>0.939850</td>\n",
       "    </tr>\n",
       "    <tr>\n",
       "      <th>12</th>\n",
       "      <td>P01742</td>\n",
       "      <td>A0A0B4J2H0</td>\n",
       "      <td>11</td>\n",
       "      <td>2037</td>\n",
       "      <td>121</td>\n",
       "      <td>132</td>\n",
       "      <td>0.916667</td>\n",
       "    </tr>\n",
       "    <tr>\n",
       "      <th>13</th>\n",
       "      <td>P01619</td>\n",
       "      <td>A0A0C4DH25</td>\n",
       "      <td>30</td>\n",
       "      <td>2018</td>\n",
       "      <td>108</td>\n",
       "      <td>138</td>\n",
       "      <td>0.782609</td>\n",
       "    </tr>\n",
       "    <tr>\n",
       "      <th>14</th>\n",
       "      <td>P01825</td>\n",
       "      <td>P0DP06</td>\n",
       "      <td>15</td>\n",
       "      <td>2033</td>\n",
       "      <td>119</td>\n",
       "      <td>134</td>\n",
       "      <td>0.888060</td>\n",
       "    </tr>\n",
       "    <tr>\n",
       "      <th>15</th>\n",
       "      <td>P01825</td>\n",
       "      <td>A0A0C4DH41</td>\n",
       "      <td>3</td>\n",
       "      <td>2045</td>\n",
       "      <td>124</td>\n",
       "      <td>127</td>\n",
       "      <td>0.976378</td>\n",
       "    </tr>\n",
       "    <tr>\n",
       "      <th>16</th>\n",
       "      <td>P0DP06</td>\n",
       "      <td>A0A0C4DH41</td>\n",
       "      <td>16</td>\n",
       "      <td>2032</td>\n",
       "      <td>118</td>\n",
       "      <td>134</td>\n",
       "      <td>0.880597</td>\n",
       "    </tr>\n",
       "    <tr>\n",
       "      <th>17</th>\n",
       "      <td>P01767</td>\n",
       "      <td>A0A0C4DH42</td>\n",
       "      <td>18</td>\n",
       "      <td>2030</td>\n",
       "      <td>119</td>\n",
       "      <td>137</td>\n",
       "      <td>0.868613</td>\n",
       "    </tr>\n",
       "    <tr>\n",
       "      <th>18</th>\n",
       "      <td>P01597</td>\n",
       "      <td>A0A0C4DH67</td>\n",
       "      <td>51</td>\n",
       "      <td>1997</td>\n",
       "      <td>91</td>\n",
       "      <td>142</td>\n",
       "      <td>0.640845</td>\n",
       "    </tr>\n",
       "    <tr>\n",
       "      <th>19</th>\n",
       "      <td>P01597</td>\n",
       "      <td>P04432</td>\n",
       "      <td>3</td>\n",
       "      <td>2045</td>\n",
       "      <td>114</td>\n",
       "      <td>117</td>\n",
       "      <td>0.974359</td>\n",
       "    </tr>\n",
       "  </tbody>\n",
       "</table>\n",
       "</div>"
      ],
      "text/plain": [
       "     Protein 1   Protein 2  Characteristics Differ  Total Match  \\\n",
       "0   A0A024RBG1      Q9NZJ9                      13         2035   \n",
       "1   A0A075B6P5      P01615                       2         2046   \n",
       "2   A0A075B6S2  A0A0C4DH68                      58         1990   \n",
       "3   A0A075B6S6      P06310                       9         2039   \n",
       "4       Q6IPX1  A0A087WVF3                      29         2019   \n",
       "5   A0A087WW87      P01614                       1         2047   \n",
       "6       A6NER0  A0A087X179                      50         1998   \n",
       "7       P07919  A0A096LP55                      20         2028   \n",
       "8   A0A0A0MT36  A0A0C4DH24                      19         2029   \n",
       "9       A0JP26  A0A0A6YYL3                      51         1997   \n",
       "10  A0A0B4J2D9      P0DP09                       0         2048   \n",
       "11  A0A0B4J2F2      P57059                      24         2024   \n",
       "12      P01742  A0A0B4J2H0                      11         2037   \n",
       "13      P01619  A0A0C4DH25                      30         2018   \n",
       "14      P01825      P0DP06                      15         2033   \n",
       "15      P01825  A0A0C4DH41                       3         2045   \n",
       "16      P0DP06  A0A0C4DH41                      16         2032   \n",
       "17      P01767  A0A0C4DH42                      18         2030   \n",
       "18      P01597  A0A0C4DH67                      51         1997   \n",
       "19      P01597      P04432                       3         2045   \n",
       "\n",
       "    Shared Characteristics  Total Characteristics  Jaccard Similarity  \n",
       "0                      175                    188            0.930851  \n",
       "1                      123                    125            0.984000  \n",
       "2                       95                    153            0.620915  \n",
       "3                      130                    139            0.935252  \n",
       "4                      361                    390            0.925641  \n",
       "5                      127                    128            0.992188  \n",
       "6                      347                    397            0.874055  \n",
       "7                       90                    110            0.818182  \n",
       "8                      110                    129            0.852713  \n",
       "9                      305                    356            0.856742  \n",
       "10                     114                    114            1.000000  \n",
       "11                     375                    399            0.939850  \n",
       "12                     121                    132            0.916667  \n",
       "13                     108                    138            0.782609  \n",
       "14                     119                    134            0.888060  \n",
       "15                     124                    127            0.976378  \n",
       "16                     118                    134            0.880597  \n",
       "17                     119                    137            0.868613  \n",
       "18                      91                    142            0.640845  \n",
       "19                     114                    117            0.974359  "
      ]
     },
     "metadata": {},
     "output_type": "display_data"
    },
    {
     "name": "stdout",
     "output_type": "stream",
     "text": [
      "Similar protein pairs for data_d4:\n"
     ]
    },
    {
     "data": {
      "text/html": [
       "<div>\n",
       "<style scoped>\n",
       "    .dataframe tbody tr th:only-of-type {\n",
       "        vertical-align: middle;\n",
       "    }\n",
       "\n",
       "    .dataframe tbody tr th {\n",
       "        vertical-align: top;\n",
       "    }\n",
       "\n",
       "    .dataframe thead th {\n",
       "        text-align: right;\n",
       "    }\n",
       "</style>\n",
       "<table border=\"1\" class=\"dataframe\">\n",
       "  <thead>\n",
       "    <tr style=\"text-align: right;\">\n",
       "      <th></th>\n",
       "      <th>Protein 1</th>\n",
       "      <th>Protein 2</th>\n",
       "      <th>Characteristics Differ</th>\n",
       "      <th>Total Match</th>\n",
       "      <th>Shared Characteristics</th>\n",
       "      <th>Total Characteristics</th>\n",
       "      <th>Jaccard Similarity</th>\n",
       "    </tr>\n",
       "  </thead>\n",
       "  <tbody>\n",
       "    <tr>\n",
       "      <th>0</th>\n",
       "      <td>P34932</td>\n",
       "      <td>Q16401</td>\n",
       "      <td>2530</td>\n",
       "      <td>18206</td>\n",
       "      <td>696</td>\n",
       "      <td>3226</td>\n",
       "      <td>0.215747</td>\n",
       "    </tr>\n",
       "    <tr>\n",
       "      <th>1</th>\n",
       "      <td>P0CL82</td>\n",
       "      <td>P0DSO3</td>\n",
       "      <td>23</td>\n",
       "      <td>20713</td>\n",
       "      <td>171</td>\n",
       "      <td>194</td>\n",
       "      <td>0.881443</td>\n",
       "    </tr>\n",
       "    <tr>\n",
       "      <th>2</th>\n",
       "      <td>P0CL82</td>\n",
       "      <td>O76087</td>\n",
       "      <td>9</td>\n",
       "      <td>20727</td>\n",
       "      <td>178</td>\n",
       "      <td>187</td>\n",
       "      <td>0.951872</td>\n",
       "    </tr>\n",
       "    <tr>\n",
       "      <th>3</th>\n",
       "      <td>P0CL82</td>\n",
       "      <td>P0CL80</td>\n",
       "      <td>8</td>\n",
       "      <td>20728</td>\n",
       "      <td>178</td>\n",
       "      <td>186</td>\n",
       "      <td>0.956989</td>\n",
       "    </tr>\n",
       "    <tr>\n",
       "      <th>4</th>\n",
       "      <td>P0CL82</td>\n",
       "      <td>P0DTW1</td>\n",
       "      <td>35</td>\n",
       "      <td>20701</td>\n",
       "      <td>162</td>\n",
       "      <td>197</td>\n",
       "      <td>0.822335</td>\n",
       "    </tr>\n",
       "    <tr>\n",
       "      <th>5</th>\n",
       "      <td>P0CL82</td>\n",
       "      <td>P0CL81</td>\n",
       "      <td>7</td>\n",
       "      <td>20729</td>\n",
       "      <td>178</td>\n",
       "      <td>185</td>\n",
       "      <td>0.962162</td>\n",
       "    </tr>\n",
       "    <tr>\n",
       "      <th>6</th>\n",
       "      <td>P0CL82</td>\n",
       "      <td>Q13069</td>\n",
       "      <td>33</td>\n",
       "      <td>20703</td>\n",
       "      <td>165</td>\n",
       "      <td>198</td>\n",
       "      <td>0.833333</td>\n",
       "    </tr>\n",
       "    <tr>\n",
       "      <th>7</th>\n",
       "      <td>P0DSO3</td>\n",
       "      <td>O76087</td>\n",
       "      <td>14</td>\n",
       "      <td>20722</td>\n",
       "      <td>177</td>\n",
       "      <td>191</td>\n",
       "      <td>0.926702</td>\n",
       "    </tr>\n",
       "    <tr>\n",
       "      <th>8</th>\n",
       "      <td>P0DSO3</td>\n",
       "      <td>P0CL80</td>\n",
       "      <td>17</td>\n",
       "      <td>20719</td>\n",
       "      <td>175</td>\n",
       "      <td>192</td>\n",
       "      <td>0.911458</td>\n",
       "    </tr>\n",
       "    <tr>\n",
       "      <th>9</th>\n",
       "      <td>P0DSO3</td>\n",
       "      <td>P0DTW1</td>\n",
       "      <td>18</td>\n",
       "      <td>20718</td>\n",
       "      <td>172</td>\n",
       "      <td>190</td>\n",
       "      <td>0.905263</td>\n",
       "    </tr>\n",
       "    <tr>\n",
       "      <th>10</th>\n",
       "      <td>P0DSO3</td>\n",
       "      <td>P0CL81</td>\n",
       "      <td>22</td>\n",
       "      <td>20714</td>\n",
       "      <td>172</td>\n",
       "      <td>194</td>\n",
       "      <td>0.886598</td>\n",
       "    </tr>\n",
       "    <tr>\n",
       "      <th>11</th>\n",
       "      <td>P0DSO3</td>\n",
       "      <td>Q13069</td>\n",
       "      <td>18</td>\n",
       "      <td>20718</td>\n",
       "      <td>174</td>\n",
       "      <td>192</td>\n",
       "      <td>0.906250</td>\n",
       "    </tr>\n",
       "    <tr>\n",
       "      <th>12</th>\n",
       "      <td>O76087</td>\n",
       "      <td>P0CL80</td>\n",
       "      <td>5</td>\n",
       "      <td>20731</td>\n",
       "      <td>181</td>\n",
       "      <td>186</td>\n",
       "      <td>0.973118</td>\n",
       "    </tr>\n",
       "    <tr>\n",
       "      <th>13</th>\n",
       "      <td>O76087</td>\n",
       "      <td>P0DTW1</td>\n",
       "      <td>32</td>\n",
       "      <td>20704</td>\n",
       "      <td>165</td>\n",
       "      <td>197</td>\n",
       "      <td>0.837563</td>\n",
       "    </tr>\n",
       "    <tr>\n",
       "      <th>14</th>\n",
       "      <td>O76087</td>\n",
       "      <td>P0CL81</td>\n",
       "      <td>10</td>\n",
       "      <td>20726</td>\n",
       "      <td>178</td>\n",
       "      <td>188</td>\n",
       "      <td>0.946809</td>\n",
       "    </tr>\n",
       "    <tr>\n",
       "      <th>15</th>\n",
       "      <td>O76087</td>\n",
       "      <td>Q13069</td>\n",
       "      <td>28</td>\n",
       "      <td>20708</td>\n",
       "      <td>169</td>\n",
       "      <td>197</td>\n",
       "      <td>0.857868</td>\n",
       "    </tr>\n",
       "    <tr>\n",
       "      <th>16</th>\n",
       "      <td>P0CL80</td>\n",
       "      <td>P0DTW1</td>\n",
       "      <td>31</td>\n",
       "      <td>20705</td>\n",
       "      <td>165</td>\n",
       "      <td>196</td>\n",
       "      <td>0.841837</td>\n",
       "    </tr>\n",
       "    <tr>\n",
       "      <th>17</th>\n",
       "      <td>P0CL80</td>\n",
       "      <td>P0CL81</td>\n",
       "      <td>13</td>\n",
       "      <td>20723</td>\n",
       "      <td>176</td>\n",
       "      <td>189</td>\n",
       "      <td>0.931217</td>\n",
       "    </tr>\n",
       "    <tr>\n",
       "      <th>18</th>\n",
       "      <td>P0CL80</td>\n",
       "      <td>Q13069</td>\n",
       "      <td>31</td>\n",
       "      <td>20705</td>\n",
       "      <td>167</td>\n",
       "      <td>198</td>\n",
       "      <td>0.843434</td>\n",
       "    </tr>\n",
       "    <tr>\n",
       "      <th>19</th>\n",
       "      <td>P0DTW1</td>\n",
       "      <td>P0CL81</td>\n",
       "      <td>32</td>\n",
       "      <td>20704</td>\n",
       "      <td>164</td>\n",
       "      <td>196</td>\n",
       "      <td>0.836735</td>\n",
       "    </tr>\n",
       "  </tbody>\n",
       "</table>\n",
       "</div>"
      ],
      "text/plain": [
       "   Protein 1 Protein 2  Characteristics Differ  Total Match  \\\n",
       "0     P34932    Q16401                    2530        18206   \n",
       "1     P0CL82    P0DSO3                      23        20713   \n",
       "2     P0CL82    O76087                       9        20727   \n",
       "3     P0CL82    P0CL80                       8        20728   \n",
       "4     P0CL82    P0DTW1                      35        20701   \n",
       "5     P0CL82    P0CL81                       7        20729   \n",
       "6     P0CL82    Q13069                      33        20703   \n",
       "7     P0DSO3    O76087                      14        20722   \n",
       "8     P0DSO3    P0CL80                      17        20719   \n",
       "9     P0DSO3    P0DTW1                      18        20718   \n",
       "10    P0DSO3    P0CL81                      22        20714   \n",
       "11    P0DSO3    Q13069                      18        20718   \n",
       "12    O76087    P0CL80                       5        20731   \n",
       "13    O76087    P0DTW1                      32        20704   \n",
       "14    O76087    P0CL81                      10        20726   \n",
       "15    O76087    Q13069                      28        20708   \n",
       "16    P0CL80    P0DTW1                      31        20705   \n",
       "17    P0CL80    P0CL81                      13        20723   \n",
       "18    P0CL80    Q13069                      31        20705   \n",
       "19    P0DTW1    P0CL81                      32        20704   \n",
       "\n",
       "    Shared Characteristics  Total Characteristics  Jaccard Similarity  \n",
       "0                      696                   3226            0.215747  \n",
       "1                      171                    194            0.881443  \n",
       "2                      178                    187            0.951872  \n",
       "3                      178                    186            0.956989  \n",
       "4                      162                    197            0.822335  \n",
       "5                      178                    185            0.962162  \n",
       "6                      165                    198            0.833333  \n",
       "7                      177                    191            0.926702  \n",
       "8                      175                    192            0.911458  \n",
       "9                      172                    190            0.905263  \n",
       "10                     172                    194            0.886598  \n",
       "11                     174                    192            0.906250  \n",
       "12                     181                    186            0.973118  \n",
       "13                     165                    197            0.837563  \n",
       "14                     178                    188            0.946809  \n",
       "15                     169                    197            0.857868  \n",
       "16                     165                    196            0.841837  \n",
       "17                     176                    189            0.931217  \n",
       "18                     167                    198            0.843434  \n",
       "19                     164                    196            0.836735  "
      ]
     },
     "metadata": {},
     "output_type": "display_data"
    }
   ],
   "source": [
    "display(\"Sparse matrix shape for data_d3:\", sparse_matrix_d3.shape)\n",
    "display(\"Sparse matrix shape for data_d4:\", sparse_matrix_d4.shape)\n",
    "\n",
    "\n",
    "# Display similar protein pairs for data_d3\n",
    "display(\"Similar protein pairs for data_d3:\")\n",
    "count_d3 = 0\n",
    "for (b, buck), docs in buckets_d3.items():\n",
    "    if len(docs) > 1 and count_d3 < 20:\n",
    "        similar_proteins = [uniprot_ids_d3[d] for d in docs]\n",
    "        display(f\"Band {b} suggests these similar proteins: {similar_proteins}\")\n",
    "        count_d3 += 1\n",
    "\n",
    "# Display similar protein pairs for data_d4\n",
    "display(\"Similar protein pairs for data_d4:\")\n",
    "count_d4 = 0\n",
    "for (b, buck), docs in buckets_d4.items():\n",
    "    if len(docs) > 1 and count_d4 < 20:\n",
    "        similar_proteins = [uniprot_ids_d4[d] for d in docs]\n",
    "        display(f\"Band {b} suggests these similar proteins: {similar_proteins}\")\n",
    "        count_d4 += 1\n",
    "        \n",
    "        \n",
    "# Print similar protein pairs for data_d3\n",
    "print(\"Similar protein pairs for data_d3:\")\n",
    "display(df_similar_pairs_d3)\n",
    "\n",
    "# Print similar protein pairs for data_d4\n",
    "print(\"Similar protein pairs for data_d4:\")\n",
    "display(df_similar_pairs_d4)\n",
    "\n",
    "\n"
   ]
  },
  {
   "cell_type": "markdown",
   "id": "322a87b8-4102-43ff-ac7c-e748df7bcd1f",
   "metadata": {},
   "source": [
    "### Your short analysis here\n",
    "\n",
    "#### **Dataset Overview**\n",
    "We are working with two datasets that correspond to approximately 99% of the Human Proteome. Each dataset is presented in a dictionary format where the key is the UniProtID of a protein and the value is a set of indices representing specific structural characteristics. \n",
    "\n",
    "The datasets are:\n",
    "\n",
    "data_d3.pickle - A smaller set of structural features with 2048 features.\n",
    "\n",
    "data_d4.pickle - A larger set of structural features with 20736 features.\n",
    "\n",
    "\n",
    "### **Local Sensitivity Hashing (LSH)**\n",
    "\n",
    "LSH is performed on both datasets to find similar proteins. The parameters B (number of bands) and R (number of rows per band) are varied to observe the effect on capturing similar protein pairs.\n",
    "\n",
    "\n",
    "\n",
    "For data_d3, the following are some of the similar protein pairs identified using LSH:\n",
    "\n",
    "\n",
    "* Band 0 suggests these similar proteins: ['A0A024RBG1', 'Q9NZJ9']\n",
    "* Band 0 suggests these similar proteins: ['A0A075B6P5', 'P01615']\n",
    "\n",
    "\n",
    "For data_d4, the following are some of the similar protein pairs identified using LSH:\n",
    "\n",
    "* Band 0 suggests these similar proteins: ['P34932', 'Q16401']\n",
    "* Band 0 suggests these similar proteins: ['P0CL82', 'P0DSO3', 'O76087', 'P0CL80', 'P0DTW1', 'P0CL81', 'Q13069']\n",
    "\n",
    "\n",
    "\n",
    "### **Detailed Analysis of Similar Protein Pairs**\n",
    "\n",
    "We analyzed the characteristics of the similar protein pairs identified. Here are some of the detailed results for data_d3:\n",
    "\n",
    "\n",
    "\n",
    "#### For data_d3:\n",
    "\n",
    "* A0A024RBG1 (NUD4B_HUMAN) and Q9NZJ9 (NUDT4_HUMAN) share 177 specific structural characteristics and differ in 13 characteristics, with a total of 188 characteristics that they could share if they were exactly the same protein based on this structural characteristics.\n",
    "* A0A075B6P5 (KV228_HUMAN) and P01615 (KVD28_HUMAN) share 123 specific structural characteristics and differ in 2 characteristics, with a total of 125 characteristics that they could share if they were exactly the same protein based on this structural characteristics.\n",
    "\n",
    "\n",
    "A quick look at the Uniprot website reveals that both pairs belong to the same protein family, suggesting that the matching found using the LSH also has biological relevance.\n",
    "\n",
    "\n",
    "#### For data_d4:\n",
    "\n",
    "\n",
    "* P34932 (HSP74_HUMAN) and Q16401 (PSMD5_HUMAN) share 696 specific structural characteristics and differ in 2530\t characteristics, with a total of 3226 characteristics that they could share if they were exactly the same protein based on this structural characteristics.\n",
    "* P0CL82 (GG12I_HUMAN) and  P0DSO3 (GAGE4_HUMAN) share 171 specific structural characteristics and differ in  23\t characteristics, with a total of 194 characteristics that they could share if they were exactly the same protein based on this structural characteristics.\n",
    "\n",
    "\n",
    "A quick look at the Uniprot website reveals that the frist pair of proteins P34932 (HSP74_HUMAN) and Q16401 (PSMD5_HUMAN) do no share the same protein family or any biological function.\n",
    "For the second group of proteins P0CL82, P0DSO3, O76087, P0CL80, P0DTW1, P0CL81, Q13069 all of them belong to the GAGE family suggesting a biological similarity between them.\n",
    " \n",
    "\n",
    "\n",
    "### **Conclusion**\n",
    "\n",
    "Local Sensitivity Hashing (LSH) effectively captures similar protein pairs in large proteomic datasets. By adjusting the parameters B and R, we can control the granularity of similarity detection and the computational cost. Identifying similar proteins can lead to insights into shared properties and functional relationships, which can be further verified through databases like UniProt.\n",
    "\n",
    "In this specific scenario, when applying LSH to both datasets, it appears that the pairs generated from both data_d3 and data_d4 exhibit greater consistency in overall biological, upon the screening a small subset of  the pairs generated from both datasets.\n",
    "\n",
    "To augment our understanding, we introduced Jaccard similarity, quantitatively evaluating the degree of similarity between protein pairs. This metric provides additional context, indicating the proportion of shared structural characteristics relative to the total characteristics.\n",
    "\n",
    "For instance, considering the pair A0A075B6P5 (KV228_HUMAN) and P01615 (KVD28_HUMAN) from data_d3, their Jaccard similarity of 0.984 suggests a high degree of overlap in their structural characteristics. \n",
    "\n",
    "On the other hand, the pair P0CL82 (GG12I_HUMAN) and  P0DSO3 (GAGE4_HUMAN), from data_d4 that were included in a group with several other proteins exhibit a  Jaccard similarity of 0.881443 that suggests a reasonable degree of overlap in their structural characteristics, on the contrary the P34932 (HSP74_HUMAN) and Q16401 (PSMD5_HUMAN) pair exhibit a Jaccard similarity  of 0.215747 indicating a limited intersection in their structural features,  reinforced by the fact that according to the Uniprot database this proteins do noy share any biological similarity.\n",
    "\n"
   ]
  },
  {
   "cell_type": "markdown",
   "id": "a8043c37-3a4d-4c4d-ab3e-2fae63af06fa",
   "metadata": {},
   "source": [
    "## 3. Do dimensionality reduction \n",
    "\n",
    "Use the techniques discussued in class to make an appropriate dimensional reduction of the selected dataset. It is not necesary to be extensive, **it is better to select one approach and do it well than try a lot of techniques with poor insights and analysis**\n",
    "\n",
    "It is important to do some sensitivity analysis, relating the dataset size reduction to the loss of information\n",
    "\n"
   ]
  },
  {
   "cell_type": "code",
   "execution_count": null,
   "id": "ae7f6d6b",
   "metadata": {},
   "outputs": [],
   "source": [
    "### Add supporting functions here"
   ]
  },
  {
   "cell_type": "code",
   "execution_count": null,
   "id": "490c4f51",
   "metadata": {},
   "outputs": [],
   "source": []
  },
  {
   "cell_type": "markdown",
   "id": "547f4a00-01db-4c2c-a7b7-0a0f7ab0d333",
   "metadata": {},
   "source": [
    "## 4. Discuss your findings [to fill on your own]\n",
    "\n",
    "* Comment your results above\n",
    "* Discuss how could they be used for the full Uniprot that currently has about [248 Million proteins](https://www.uniprot.org/uniprotkb/statistics)\n",
    "\n",
    "\n",
    "Lorem ipsum dolor sit amet, consectetur adipiscing elit, sed do eiusmod tempor incididunt ut labore et dolore magna aliqua. Ut enim ad minim veniam, quis nostrud exercitation ullamco laboris nisi ut aliquip ex ea commodo consequat. Duis aute irure dolor in reprehenderit in voluptate velit esse cillum dolore eu fugiat nulla pariatur. Excepteur sint occaecat cupidatat non proident, sunt in culpa qui officia deserunt mollit anim id est laborum\n"
   ]
  },
  {
   "cell_type": "code",
   "execution_count": null,
   "id": "31a1c5d6",
   "metadata": {},
   "outputs": [],
   "source": []
  }
 ],
 "metadata": {
  "kernelspec": {
   "display_name": "Python 3 (ipykernel)",
   "language": "python",
   "name": "python3"
  },
  "language_info": {
   "codemirror_mode": {
    "name": "ipython",
    "version": 3
   },
   "file_extension": ".py",
   "mimetype": "text/x-python",
   "name": "python",
   "nbconvert_exporter": "python",
   "pygments_lexer": "ipython3",
   "version": "3.11.4"
  }
 },
 "nbformat": 4,
 "nbformat_minor": 5
}
